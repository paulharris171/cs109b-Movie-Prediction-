{
 "cells": [
  {
   "cell_type": "code",
   "execution_count": 2,
   "metadata": {
    "collapsed": true
   },
   "outputs": [],
   "source": [
    "#import libraries\n",
    "%matplotlib inline\n",
    "import tmdbsimple as tmdb\n",
    "from imdb import IMDb\n",
    "import time\n",
    "import matplotlib\n",
    "import matplotlib.pyplot as plt\n",
    "import itertools\n",
    "import pandas as pd\n",
    "import numpy as np\n",
    "from IPython.display import Image\n",
    "from IPython.core.display import HTML"
   ]
  },
  {
   "cell_type": "code",
   "execution_count": 3,
   "metadata": {
    "collapsed": false
   },
   "outputs": [],
   "source": [
    "tmdb.API_KEY = '15f7188d2ca006ec3cf1954314c298cd'"
   ]
  },
  {
   "cell_type": "code",
   "execution_count": 101,
   "metadata": {
    "collapsed": false
   },
   "outputs": [],
   "source": [
    "#Making List of tmdb movie ids\n",
    "discover = tmdb.Discover()\n",
    "pop = discover.movie()['results']"
   ]
  },
  {
   "cell_type": "code",
   "execution_count": 106,
   "metadata": {
    "collapsed": false
   },
   "outputs": [],
   "source": [
    "#Getting Tmdb Ids\n",
    "page_1 = []\n",
    "page_2 = []\n",
    "page_3 = []\n",
    "page_4 = []\n",
    "page_5 = []\n",
    "page_6 = []"
   ]
  },
  {
   "cell_type": "code",
   "execution_count": 107,
   "metadata": {
    "collapsed": false
   },
   "outputs": [],
   "source": [
    "import requests\n",
    "\n",
    "url = \"https://api.themoviedb.org/3/movie/now_playing?api_key=15f7188d2ca006ec3cf1954314c298cd&language=en-US&page=1\"\n",
    "\n",
    "payload = \"{}\"\n",
    "response = requests.request(\"GET\", url, data=payload)\n",
    "\n",
    "page_1 = response.json()"
   ]
  },
  {
   "cell_type": "code",
   "execution_count": 108,
   "metadata": {
    "collapsed": true
   },
   "outputs": [],
   "source": [
    "url = \"https://api.themoviedb.org/3/movie/now_playing?api_key=15f7188d2ca006ec3cf1954314c298cd&language=en-US&page=2\"\n",
    "\n",
    "payload = \"{}\"\n",
    "response = requests.request(\"GET\", url, data=payload)\n",
    "\n",
    "page_2 = response.json()"
   ]
  },
  {
   "cell_type": "code",
   "execution_count": 109,
   "metadata": {
    "collapsed": true
   },
   "outputs": [],
   "source": [
    "url = \"https://api.themoviedb.org/3/movie/now_playing?api_key=15f7188d2ca006ec3cf1954314c298cd&language=en-US&page=3\"\n",
    "\n",
    "payload = \"{}\"\n",
    "response = requests.request(\"GET\", url, data=payload)\n",
    "\n",
    "page_3 = response.json()"
   ]
  },
  {
   "cell_type": "code",
   "execution_count": 110,
   "metadata": {
    "collapsed": true
   },
   "outputs": [],
   "source": [
    "url = \"https://api.themoviedb.org/3/movie/now_playing?api_key=15f7188d2ca006ec3cf1954314c298cd&language=en-US&page=4\"\n",
    "\n",
    "payload = \"{}\"\n",
    "response = requests.request(\"GET\", url, data=payload)\n",
    "\n",
    "page_4 = response.json()"
   ]
  },
  {
   "cell_type": "code",
   "execution_count": 111,
   "metadata": {
    "collapsed": true
   },
   "outputs": [],
   "source": [
    "url = \"https://api.themoviedb.org/3/movie/now_playing?api_key=15f7188d2ca006ec3cf1954314c298cd&language=en-US&page=5\"\n",
    "\n",
    "payload = \"{}\"\n",
    "response = requests.request(\"GET\", url, data=payload)\n",
    "\n",
    "page_5 = response.json()"
   ]
  },
  {
   "cell_type": "code",
   "execution_count": 112,
   "metadata": {
    "collapsed": true
   },
   "outputs": [],
   "source": [
    "url = \"https://api.themoviedb.org/3/movie/now_playing?api_key=15f7188d2ca006ec3cf1954314c298cd&language=en-US&page=6\"\n",
    "\n",
    "payload = \"{}\"\n",
    "response = requests.request(\"GET\", url, data=payload)\n",
    "\n",
    "page_6 = response.json()"
   ]
  },
  {
   "cell_type": "code",
   "execution_count": 113,
   "metadata": {
    "collapsed": true
   },
   "outputs": [],
   "source": [
    "#Taking ids out of dictionaries from each page\n",
    "tmdb_ids = []*120\n",
    "\n",
    "\n",
    "for s in range(0,19):\n",
    "     tmdb_ids.append(page_1['results'][s]['id'])\n",
    "\n",
    "for s in range(0,19):\n",
    "     tmdb_ids.append(page_2['results'][s]['id'])\n",
    "        \n",
    "for s in range(0,19):\n",
    "     tmdb_ids.append(page_3['results'][s]['id'])\n",
    "        \n",
    "for s in range(0,19):\n",
    "     tmdb_ids.append(page_4['results'][s]['id'])\n",
    "        \n",
    "for s in range(0,19):\n",
    "     tmdb_ids.append(page_5['results'][s]['id'])\n",
    "        \n",
    "for s in range(0,19):\n",
    "     tmdb_ids.append(page_6['results'][s]['id'])"
   ]
  },
  {
   "cell_type": "code",
   "execution_count": 123,
   "metadata": {
    "collapsed": false
   },
   "outputs": [
    {
     "data": {
      "text/plain": [
       "114"
      ]
     },
     "execution_count": 123,
     "metadata": {},
     "output_type": "execute_result"
    }
   ],
   "source": [
    "len(tmdb_ids)"
   ]
  },
  {
   "cell_type": "code",
   "execution_count": 124,
   "metadata": {
    "collapsed": false
   },
   "outputs": [],
   "source": [
    "movie_title = []*120\n",
    "\n",
    "for s in tmdb_ids:\n",
    "    movie =tmdb.Movies(s)\n",
    "    response = movie.info()\n",
    "    movie_title.append(movie.original_title)\n",
    "    time.sleep(10)"
   ]
  },
  {
   "cell_type": "code",
   "execution_count": 133,
   "metadata": {
    "collapsed": false
   },
   "outputs": [
    {
     "name": "stdout",
     "output_type": "stream",
     "text": [
      "114\n"
     ]
    }
   ],
   "source": [
    "print len(movie_title)"
   ]
  },
  {
   "cell_type": "code",
   "execution_count": 129,
   "metadata": {
    "collapsed": false
   },
   "outputs": [
    {
     "name": "stdout",
     "output_type": "stream",
     "text": [
      "Fantasy\n",
      "Action\n",
      "Action\n",
      "Action\n",
      "Animation\n",
      "Horror\n",
      "Drama\n",
      "Action\n",
      "Adventure\n",
      "Horror\n",
      "Adventure\n",
      "Action\n",
      "History\n",
      "Adventure\n",
      "Comedy\n",
      "Animation\n",
      "Drama\n",
      "Thriller\n",
      "Drama\n",
      "Horror\n",
      "Drama\n",
      "Drama\n",
      "Action\n",
      "Drama\n",
      "Action\n",
      "Drama\n",
      "Comedy\n",
      "Mystery\n",
      "Comedy\n",
      "Drama\n",
      "Thriller\n",
      "Drama\n",
      "Science Fiction\n",
      "Horror\n",
      "Mystery\n",
      "Action\n",
      "TV Movie\n",
      "Family\n",
      "Crime\n",
      "Adventure\n",
      "Comedy\n",
      "Crime\n",
      "Drama\n",
      "Romance\n",
      "Action\n",
      "Drama\n",
      "Comedy\n",
      "Drama\n",
      "Action\n",
      "Drama\n",
      "Drama\n",
      "Thriller\n",
      "Comedy\n",
      "Drama\n",
      "Action\n",
      "Drama\n",
      "Drama\n",
      "Comedy\n",
      "Family\n",
      "Horror\n",
      "Comedy\n",
      "Drama\n",
      "Comedy\n",
      "Horror\n",
      "Animation\n",
      "Comedy\n",
      "Adventure\n",
      "Drama\n",
      "Drama\n",
      "Romance\n",
      "Drama\n",
      "Adventure\n",
      "Comedy\n",
      "Action\n",
      "Adventure\n"
     ]
    },
    {
     "ename": "IndexError",
     "evalue": "list index out of range",
     "output_type": "error",
     "traceback": [
      "\u001b[0;31m---------------------------------------------------------------------------\u001b[0m",
      "\u001b[0;31mIndexError\u001b[0m                                Traceback (most recent call last)",
      "\u001b[0;32m<ipython-input-129-8ed49421fa6e>\u001b[0m in \u001b[0;36m<module>\u001b[0;34m()\u001b[0m\n\u001b[1;32m      4\u001b[0m     \u001b[0mmovie\u001b[0m \u001b[0;34m=\u001b[0m\u001b[0mtmdb\u001b[0m\u001b[0;34m.\u001b[0m\u001b[0mMovies\u001b[0m\u001b[0;34m(\u001b[0m\u001b[0ms\u001b[0m\u001b[0;34m)\u001b[0m\u001b[0;34m\u001b[0m\u001b[0m\n\u001b[1;32m      5\u001b[0m     \u001b[0mresponse\u001b[0m \u001b[0;34m=\u001b[0m \u001b[0mmovie\u001b[0m\u001b[0;34m.\u001b[0m\u001b[0minfo\u001b[0m\u001b[0;34m(\u001b[0m\u001b[0;34m)\u001b[0m\u001b[0;34m\u001b[0m\u001b[0m\n\u001b[0;32m----> 6\u001b[0;31m     \u001b[0mmovie_genre\u001b[0m\u001b[0;34m.\u001b[0m\u001b[0mappend\u001b[0m\u001b[0;34m(\u001b[0m\u001b[0mmovie\u001b[0m\u001b[0;34m.\u001b[0m\u001b[0mgenres\u001b[0m\u001b[0;34m[\u001b[0m\u001b[0;36m0\u001b[0m\u001b[0;34m]\u001b[0m\u001b[0;34m[\u001b[0m\u001b[0;34m'name'\u001b[0m\u001b[0;34m]\u001b[0m\u001b[0;34m)\u001b[0m\u001b[0;34m\u001b[0m\u001b[0m\n\u001b[0m\u001b[1;32m      7\u001b[0m     \u001b[0;32mprint\u001b[0m \u001b[0mmovie\u001b[0m\u001b[0;34m.\u001b[0m\u001b[0mgenres\u001b[0m\u001b[0;34m[\u001b[0m\u001b[0;36m0\u001b[0m\u001b[0;34m]\u001b[0m\u001b[0;34m[\u001b[0m\u001b[0;34m'name'\u001b[0m\u001b[0;34m]\u001b[0m\u001b[0;34m\u001b[0m\u001b[0m\n\u001b[1;32m      8\u001b[0m     \u001b[0mtime\u001b[0m\u001b[0;34m.\u001b[0m\u001b[0msleep\u001b[0m\u001b[0;34m(\u001b[0m\u001b[0;36m10\u001b[0m\u001b[0;34m)\u001b[0m\u001b[0;34m\u001b[0m\u001b[0m\n",
      "\u001b[0;31mIndexError\u001b[0m: list index out of range"
     ]
    }
   ],
   "source": [
    "movie_genre = []*120\n",
    "\n",
    "for s in tmdb_ids:\n",
    "    movie =tmdb.Movies(s)\n",
    "    response = movie.info()\n",
    "    movie_genre.append(movie.genres[0]['name'])\n",
    "    print movie.genres[0]['name']\n",
    "    time.sleep(10)"
   ]
  },
  {
   "cell_type": "code",
   "execution_count": 130,
   "metadata": {
    "collapsed": false
   },
   "outputs": [
    {
     "name": "stdout",
     "output_type": "stream",
     "text": [
      "75\n"
     ]
    }
   ],
   "source": [
    "print len(movie_genre)"
   ]
  },
  {
   "cell_type": "code",
   "execution_count": null,
   "metadata": {
    "collapsed": false
   },
   "outputs": [
    {
     "name": "stdout",
     "output_type": "stream",
     "text": [
      "160000000\n",
      "190000000\n",
      "250000000\n",
      "110000000\n",
      "125000000\n",
      "9000000\n",
      "0\n",
      "35000000\n",
      "0\n",
      "58000000\n",
      "110000000\n",
      "100000000\n",
      "25000000\n",
      "30000000\n",
      "38000000\n",
      "0\n",
      "7000000\n",
      "40000000\n"
     ]
    }
   ],
   "source": [
    "movie_budget = []*120\n",
    "\n",
    "for s in tmdb_ids:\n",
    "    movie =tmdb.Movies(s)\n",
    "    response = movie.info()\n",
    "    movie_budget.append(movie.budget)\n",
    "    print movie.budget\n",
    "    time.sleep(10)"
   ]
  },
  {
   "cell_type": "code",
   "execution_count": null,
   "metadata": {
    "collapsed": true
   },
   "outputs": [],
   "source": []
  }
 ],
 "metadata": {
  "kernelspec": {
   "display_name": "Python [default]",
   "language": "python",
   "name": "python2"
  },
  "language_info": {
   "codemirror_mode": {
    "name": "ipython",
    "version": 2
   },
   "file_extension": ".py",
   "mimetype": "text/x-python",
   "name": "python",
   "nbconvert_exporter": "python",
   "pygments_lexer": "ipython2",
   "version": "2.7.12"
  }
 },
 "nbformat": 4,
 "nbformat_minor": 1
}
