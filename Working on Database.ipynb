{
 "cells": [
  {
   "cell_type": "code",
   "execution_count": 2,
   "metadata": {
    "collapsed": true
   },
   "outputs": [],
   "source": [
    "#import libraries\n",
    "%matplotlib inline\n",
    "import tmdbsimple as tmdb\n",
    "from imdb import IMDb\n",
    "import time\n",
    "import matplotlib\n",
    "import matplotlib.pyplot as plt\n",
    "import itertools\n",
    "import pandas as pd\n",
    "import numpy as np\n",
    "from IPython.display import Image\n",
    "from IPython.core.display import HTML"
   ]
  },
  {
   "cell_type": "code",
   "execution_count": 3,
   "metadata": {
    "collapsed": false
   },
   "outputs": [],
   "source": [
    "tmdb.API_KEY = '15f7188d2ca006ec3cf1954314c298cd'"
   ]
  },
  {
   "cell_type": "code",
   "execution_count": 101,
   "metadata": {
    "collapsed": false
   },
   "outputs": [],
   "source": [
    "#Making List of tmdb movie ids\n",
    "discover = tmdb.Discover()\n",
    "pop = discover.movie()['results']"
   ]
  },
  {
   "cell_type": "code",
   "execution_count": 106,
   "metadata": {
    "collapsed": false
   },
   "outputs": [],
   "source": [
    "#Getting Tmdb Ids\n",
    "page_1 = []\n",
    "page_2 = []\n",
    "page_3 = []\n",
    "page_4 = []\n",
    "page_5 = []\n",
    "page_6 = []"
   ]
  },
  {
   "cell_type": "code",
   "execution_count": 107,
   "metadata": {
    "collapsed": false
   },
   "outputs": [],
   "source": [
    "import requests\n",
    "\n",
    "url = \"https://api.themoviedb.org/3/movie/now_playing?api_key=15f7188d2ca006ec3cf1954314c298cd&language=en-US&page=1\"\n",
    "\n",
    "payload = \"{}\"\n",
    "response = requests.request(\"GET\", url, data=payload)\n",
    "\n",
    "page_1 = response.json()"
   ]
  },
  {
   "cell_type": "code",
   "execution_count": 108,
   "metadata": {
    "collapsed": true
   },
   "outputs": [],
   "source": [
    "url = \"https://api.themoviedb.org/3/movie/now_playing?api_key=15f7188d2ca006ec3cf1954314c298cd&language=en-US&page=2\"\n",
    "\n",
    "payload = \"{}\"\n",
    "response = requests.request(\"GET\", url, data=payload)\n",
    "\n",
    "page_2 = response.json()"
   ]
  },
  {
   "cell_type": "code",
   "execution_count": 109,
   "metadata": {
    "collapsed": true
   },
   "outputs": [],
   "source": [
    "url = \"https://api.themoviedb.org/3/movie/now_playing?api_key=15f7188d2ca006ec3cf1954314c298cd&language=en-US&page=3\"\n",
    "\n",
    "payload = \"{}\"\n",
    "response = requests.request(\"GET\", url, data=payload)\n",
    "\n",
    "page_3 = response.json()"
   ]
  },
  {
   "cell_type": "code",
   "execution_count": 110,
   "metadata": {
    "collapsed": true
   },
   "outputs": [],
   "source": [
    "url = \"https://api.themoviedb.org/3/movie/now_playing?api_key=15f7188d2ca006ec3cf1954314c298cd&language=en-US&page=4\"\n",
    "\n",
    "payload = \"{}\"\n",
    "response = requests.request(\"GET\", url, data=payload)\n",
    "\n",
    "page_4 = response.json()"
   ]
  },
  {
   "cell_type": "code",
   "execution_count": 111,
   "metadata": {
    "collapsed": true
   },
   "outputs": [],
   "source": [
    "url = \"https://api.themoviedb.org/3/movie/now_playing?api_key=15f7188d2ca006ec3cf1954314c298cd&language=en-US&page=5\"\n",
    "\n",
    "payload = \"{}\"\n",
    "response = requests.request(\"GET\", url, data=payload)\n",
    "\n",
    "page_5 = response.json()"
   ]
  },
  {
   "cell_type": "code",
   "execution_count": 112,
   "metadata": {
    "collapsed": true
   },
   "outputs": [],
   "source": [
    "url = \"https://api.themoviedb.org/3/movie/now_playing?api_key=15f7188d2ca006ec3cf1954314c298cd&language=en-US&page=6\"\n",
    "\n",
    "payload = \"{}\"\n",
    "response = requests.request(\"GET\", url, data=payload)\n",
    "\n",
    "page_6 = response.json()"
   ]
  },
  {
   "cell_type": "code",
   "execution_count": 113,
   "metadata": {
    "collapsed": true
   },
   "outputs": [],
   "source": [
    "#Taking ids out of dictionaries from each page\n",
    "tmdb_ids = []*120\n",
    "\n",
    "\n",
    "for s in range(0,19):\n",
    "     tmdb_ids.append(page_1['results'][s]['id'])\n",
    "\n",
    "for s in range(0,19):\n",
    "     tmdb_ids.append(page_2['results'][s]['id'])\n",
    "        \n",
    "for s in range(0,19):\n",
    "     tmdb_ids.append(page_3['results'][s]['id'])\n",
    "        \n",
    "for s in range(0,19):\n",
    "     tmdb_ids.append(page_4['results'][s]['id'])\n",
    "        \n",
    "for s in range(0,19):\n",
    "     tmdb_ids.append(page_5['results'][s]['id'])\n",
    "        \n",
    "for s in range(0,19):\n",
    "     tmdb_ids.append(page_6['results'][s]['id'])"
   ]
  },
  {
   "cell_type": "code",
   "execution_count": 114,
   "metadata": {
    "collapsed": false
   },
   "outputs": [
    {
     "name": "stdout",
     "output_type": "stream",
     "text": [
      "[321612, 293167, 337339, 315837, 295693, 381288, 382591, 346672, 137116, 395992, 274870, 305470, 381284, 342473, 356305, 372058, 310307, 324552, 345920, 397243, 376134, 68730, 290250, 388399, 307081, 376867, 419700, 378018, 376660, 390051, 345009, 340676, 421443, 292280, 324560, 314095, 452142, 447113, 259695, 277834, 353070, 180863, 376290, 365942, 331313, 339408, 339967, 340837, 334521, 345938, 370663, 418437, 381289, 400928, 256569, 415132, 335578, 352501, 322487, 450825, 452196, 393519, 291328, 443319, 337703, 306943, 283378, 347026, 318781, 354859, 296523, 334524, 445793, 438058, 310119, 452542, 355277, 440642, 342737, 452397, 439152, 340488, 348678, 369697, 375315, 374475, 443711, 449085, 452687, 450831, 289222, 341006, 426962, 377263, 407201, 424998, 450836, 448764, 374464, 450045, 354216, 419444, 374617, 437620, 413658, 330947, 450150, 451661, 359784, 397837, 448446, 452394, 441614, 402298]\n"
     ]
    }
   ],
   "source": [
    "print tmdb_ids"
   ]
  },
  {
   "cell_type": "code",
   "execution_count": 118,
   "metadata": {
    "collapsed": false
   },
   "outputs": [
    {
     "name": "stdout",
     "output_type": "stream",
     "text": [
      "Beauty and the Beast\n",
      "Kong: Skull Island\n",
      "The Fate of the Furious\n",
      "Ghost in the Shell\n",
      "The Boss Baby\n",
      "Split\n",
      "Demain tout commence\n",
      "Underworld: Blood Wars\n",
      "Smurfs: The Lost Village\n",
      "Life\n",
      "Passengers\n",
      "Power Rangers\n",
      "Hidden Figures\n",
      "Ballerina\n",
      "Why Him?\n",
      "君の名は。\n",
      "The Founder\n",
      "John Wick: Chapter 2\n",
      "Collateral Beauty\n",
      "The Autopsy of Jane Doe\n",
      "The Discovery\n",
      "Silence\n",
      "The Nice Guys\n",
      "Patriots Day\n",
      "Southpaw\n",
      "Moonlight\n",
      "Sandy Wexler\n",
      "The Void\n",
      "The Edge of Seventeen\n",
      "Aftermath\n",
      "Mine\n",
      "Personal Shopper\n",
      "Teleios\n",
      "The Bye Bye Man\n",
      "Brimstone\n",
      "The Lost City of Z\n",
      "Maigret's Night at the Crossroads\n",
      "Monster High: Electrified\n",
      "Live by Night\n",
      "Moana\n",
      "Going in Style\n",
      "T2 Trainspotting\n",
      "Miss Sloane\n",
      "The Space Between Us\n",
      "Keeping Up with the Joneses\n",
      "The Birth of a Nation\n",
      "Colossal\n",
      "A Cure for Wellness\n",
      "Free Fire\n",
      "The Shack\n",
      "Below Her Mouth\n",
      "Unforgettable\n",
      "A Dog's Purpose\n",
      "Gifted\n",
      "Trespass Against Us\n",
      "Arès\n",
      "Under sandet\n",
      "All Nighter\n",
      "Spark: A Space Tail\n",
      "Nemesis\n",
      "Can't Help Falling in Love\n",
      "Grave\n",
      "Rules Don't Apply\n",
      "Phoenix Forgotten\n",
      "La tortue rouge\n",
      "The Outcasts\n",
      "Fallen\n",
      "A United Kingdom\n",
      "Colonia\n",
      "The Promise\n",
      "Man Down\n",
      "Gold\n",
      "Marito e moglie\n",
      "劇場版『名探偵コナン から紅の恋歌』\n",
      "Last Days in the Desert\n",
      "Hot Dog Hands\n",
      "Born in China\n",
      "Время первых\n",
      "20th Century Women\n",
      "Revival!\n",
      "Telle mère, telle fille\n",
      "Salt and Fire\n",
      "En man som heter Ove\n",
      "Norman: The Moderate Rise and Tragic Fall of a New York Fixer\n",
      "Forushande\n",
      "Toni Erdmann\n",
      "UK18\n",
      "First Daughter and the Black Snake\n",
      "Shape of a Surface\n",
      "Hotel de Grote L\n",
      "The Zookeeper's Wife\n",
      "The Belko Experiment\n",
      "Sous le même toit\n",
      "Frantz\n",
      "Cessez-le-feu\n",
      "The Case for Christ\n",
      "Voor Elkaar Gemaakt\n",
      "Molly\n",
      "Planetarium\n",
      "സഖവ്‌\n",
      "The Devil's Candy\n",
      "Heavy\n",
      "Imperium\n",
      "ReLIFE\n",
      "The Warrior's Gate\n",
      "Song to Song\n",
      "結城友奈は勇者である -鷲尾須美の章- 第2章 「たましい」\n",
      "Cigarette Soup\n",
      "Maudie\n",
      "Before I Fall\n",
      "Gilbert\n",
      "Manje Bistre (2017)\n",
      "Amar\n",
      "Denial\n"
     ]
    }
   ],
   "source": [
    "for s in tmdb_ids:\n",
    "    movie =tmdb.Movies(s)\n",
    "    response = movie.info()\n",
    "    print movie.original_title"
   ]
  },
  {
   "cell_type": "code",
   "execution_count": 120,
   "metadata": {
    "collapsed": false
   },
   "outputs": [
    {
     "name": "stdout",
     "output_type": "stream",
     "text": [
      "Fantasy Romance\n",
      "Action Adventure\n",
      "Action Crime\n",
      "Action Drama\n",
      "Animation Comedy\n",
      "Horror Thriller\n",
      "Drama Comedy\n",
      "Action Horror\n",
      "Adventure Animation\n",
      "Horror Science Fiction\n",
      "Adventure Drama\n",
      "Action Adventure\n",
      "History Drama\n",
      "Adventure Animation\n",
      "Comedy"
     ]
    },
    {
     "ename": "IndexError",
     "evalue": "list index out of range",
     "output_type": "error",
     "traceback": [
      "\u001b[0;31m---------------------------------------------------------------------------\u001b[0m",
      "\u001b[0;31mIndexError\u001b[0m                                Traceback (most recent call last)",
      "\u001b[0;32m<ipython-input-120-e150b4c2d110>\u001b[0m in \u001b[0;36m<module>\u001b[0;34m()\u001b[0m\n\u001b[1;32m      2\u001b[0m     \u001b[0mmovie\u001b[0m \u001b[0;34m=\u001b[0m\u001b[0mtmdb\u001b[0m\u001b[0;34m.\u001b[0m\u001b[0mMovies\u001b[0m\u001b[0;34m(\u001b[0m\u001b[0ms\u001b[0m\u001b[0;34m)\u001b[0m\u001b[0;34m\u001b[0m\u001b[0m\n\u001b[1;32m      3\u001b[0m     \u001b[0mresponse\u001b[0m \u001b[0;34m=\u001b[0m \u001b[0mmovie\u001b[0m\u001b[0;34m.\u001b[0m\u001b[0minfo\u001b[0m\u001b[0;34m(\u001b[0m\u001b[0;34m)\u001b[0m\u001b[0;34m\u001b[0m\u001b[0m\n\u001b[0;32m----> 4\u001b[0;31m     \u001b[0;32mprint\u001b[0m \u001b[0mmovie\u001b[0m\u001b[0;34m.\u001b[0m\u001b[0mgenres\u001b[0m\u001b[0;34m[\u001b[0m\u001b[0;36m0\u001b[0m\u001b[0;34m]\u001b[0m\u001b[0;34m[\u001b[0m\u001b[0;34m'name'\u001b[0m\u001b[0;34m]\u001b[0m\u001b[0;34m,\u001b[0m \u001b[0mmovie\u001b[0m\u001b[0;34m.\u001b[0m\u001b[0mgenres\u001b[0m\u001b[0;34m[\u001b[0m\u001b[0;36m1\u001b[0m\u001b[0;34m]\u001b[0m\u001b[0;34m[\u001b[0m\u001b[0;34m'name'\u001b[0m\u001b[0;34m]\u001b[0m\u001b[0;34m\u001b[0m\u001b[0m\n\u001b[0m",
      "\u001b[0;31mIndexError\u001b[0m: list index out of range"
     ]
    }
   ],
   "source": [
    "for s in tmdb_ids:\n",
    "    movie =tmdb.Movies(s)\n",
    "    response = movie.info()\n",
    "    print movie.genres[0]['name'], movie.genres[1]['name']"
   ]
  },
  {
   "cell_type": "code",
   "execution_count": null,
   "metadata": {
    "collapsed": true
   },
   "outputs": [],
   "source": []
  }
 ],
 "metadata": {
  "kernelspec": {
   "display_name": "Python [default]",
   "language": "python",
   "name": "python2"
  },
  "language_info": {
   "codemirror_mode": {
    "name": "ipython",
    "version": 2
   },
   "file_extension": ".py",
   "mimetype": "text/x-python",
   "name": "python",
   "nbconvert_exporter": "python",
   "pygments_lexer": "ipython2",
   "version": "2.7.12"
  }
 },
 "nbformat": 4,
 "nbformat_minor": 1
}
