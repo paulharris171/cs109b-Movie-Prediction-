{
 "cells": [
  {
   "cell_type": "code",
   "execution_count": 102,
   "metadata": {
    "collapsed": false
   },
   "outputs": [],
   "source": [
    "#from imdb import IMDb\n",
    "import tmdbsimple as tmdb\n",
    "import time\n",
    "import matplotlib\n",
    "import matplotlib.pyplot as plt"
   ]
  },
  {
   "cell_type": "code",
   "execution_count": 2,
   "metadata": {
    "collapsed": false
   },
   "outputs": [],
   "source": [
    "from imdb import IMDb"
   ]
  },
  {
   "cell_type": "code",
   "execution_count": 3,
   "metadata": {
    "collapsed": true
   },
   "outputs": [],
   "source": [
    "#URL for key\n",
    "#https://api.themoviedb.org/3/movie/550?api_key=822771ddecfdc59a99893ffeaa1ec9b4"
   ]
  },
  {
   "cell_type": "code",
   "execution_count": 4,
   "metadata": {
    "collapsed": false
   },
   "outputs": [
    {
     "name": "stdout",
     "output_type": "stream",
     "text": [
      "(u'The Bourne Supremacy', 2502, [28, 18, 53], 5.099736, u'/6a74OaZArLNNDHK9SdiLBUu2JYj.jpg')\n",
      "(u'The Bourne Identity', 2501, [28, 18, 9648, 53], 4.993621, u'/bXQIL36VQdzJ69lcjQR1WQzJqQR.jpg')\n",
      "(u'The Bourne Ultimatum', 2503, [28, 18, 9648, 53], 4.294931, u'/fHho6JYYY0nRcETWSoeI19iZsNF.jpg')\n",
      "(u'The Bourne Legacy', 49040, [28, 53], 3.93623, u'/AnKnLsybNhnibvA3mba1ct9Nnb6.jpg')\n",
      "(u'The Bourne Identity', 8677, [28, 18, 9648, 53], 1.187068, u'/1VDOecnTdsAFx15lzhTL0J9TCgb.jpg')\n",
      "(u'Bette Bourne: It Goes with the Shoes', 179304, [99], 1.001503, u'/abhNpCXsmH931mxyLI7NZ7ChA39.jpg')\n",
      "(u'Jason Bourne', 324668, [28, 53], 5.970991, u'/aU1PY270BTBUXwAZhgRR2TMUX4u.jpg')\n",
      "(u'Untitled Jeremy Renner/Bourne Sequel', 393640, [28, 53], 1.354071, None)\n"
     ]
    }
   ],
   "source": [
    "tmdb.API_KEY = '15f7188d2ca006ec3cf1954314c298cd'\n",
    "search = tmdb.Search()\n",
    "response = search.movie(query='The Bourne')\n",
    "this = 0\n",
    "for s in search.results:\n",
    "    this = s\n",
    "    print(s['title'], s['id'], s['genre_ids'], s['popularity'], s['poster_path'])\n",
    "    time.sleep(5)"
   ]
  },
  {
   "cell_type": "code",
   "execution_count": 6,
   "metadata": {
    "collapsed": false
   },
   "outputs": [
    {
     "ename": "KeyError",
     "evalue": "'vote_count'",
     "output_type": "error",
     "traceback": [
      "\u001b[0;31m---------------------------------------------------------------------------\u001b[0m",
      "\u001b[0;31mKeyError\u001b[0m                                  Traceback (most recent call last)",
      "\u001b[0;32m<ipython-input-6-486112a62090>\u001b[0m in \u001b[0;36m<module>\u001b[0;34m()\u001b[0m\n\u001b[0;32m----> 1\u001b[0;31m \u001b[0mthis\u001b[0m\u001b[0;34m[\u001b[0m\u001b[0;34m\"vote_count\"\u001b[0m\u001b[0;34m]\u001b[0m \u001b[0;34m*\u001b[0m \u001b[0mthis\u001b[0m\u001b[0;34m[\u001b[0m\u001b[0;34m\"vote_average\"\u001b[0m\u001b[0;34m]\u001b[0m\u001b[0;34m\u001b[0m\u001b[0m\n\u001b[0m",
      "\u001b[0;31mKeyError\u001b[0m: 'vote_count'"
     ]
    }
   ],
   "source": [
    "this[\"vote_count\"] * this[\"vote_average\"]"
   ]
  },
  {
   "cell_type": "code",
   "execution_count": 7,
   "metadata": {
    "collapsed": true
   },
   "outputs": [],
   "source": [
    "response = search.movie(query='Avatar')"
   ]
  },
  {
   "cell_type": "code",
   "execution_count": 8,
   "metadata": {
    "collapsed": false
   },
   "outputs": [
    {
     "data": {
      "text/plain": [
       "14"
      ]
     },
     "execution_count": 8,
     "metadata": {},
     "output_type": "execute_result"
    }
   ],
   "source": [
    "len(search.results[0])"
   ]
  },
  {
   "cell_type": "code",
   "execution_count": 9,
   "metadata": {
    "collapsed": false
   },
   "outputs": [],
   "source": [
    "discover = tmdb.Discover()\n",
    "this = discover.movie(sort_by = \"popularity.desc\")"
   ]
  },
  {
   "cell_type": "code",
   "execution_count": 10,
   "metadata": {
    "collapsed": false
   },
   "outputs": [
    {
     "ename": "SyntaxError",
     "evalue": "invalid syntax (<ipython-input-10-eecb5f4d37a9>, line 2)",
     "output_type": "error",
     "traceback": [
      "\u001b[0;36m  File \u001b[0;32m\"<ipython-input-10-eecb5f4d37a9>\"\u001b[0;36m, line \u001b[0;32m2\u001b[0m\n\u001b[0;31m    print(s['title'], s['id'], s['release_date'], s['popularity'], s[])\u001b[0m\n\u001b[0m                                                                     ^\u001b[0m\n\u001b[0;31mSyntaxError\u001b[0m\u001b[0;31m:\u001b[0m invalid syntax\n"
     ]
    }
   ],
   "source": [
    "for s in this[\"results\"]:\n",
    "    print(s['title'], s['id'], s['release_date'], s['popularity'], s[])"
   ]
  },
  {
   "cell_type": "code",
   "execution_count": 34,
   "metadata": {
    "collapsed": false
   },
   "outputs": [
    {
     "data": {
      "text/plain": [
       "[{u'adult': False,\n",
       "  u'backdrop_path': u'/6aUWe0GSl69wMTSWWexsorMIvwU.jpg',\n",
       "  u'genre_ids': [14, 10402, 10749],\n",
       "  u'id': 321612,\n",
       "  u'original_language': u'en',\n",
       "  u'original_title': u'Beauty and the Beast',\n",
       "  u'overview': u\"A live-action adaptation of Disney's version of the classic 'Beauty and the Beast' tale of a cursed prince and a beautiful young woman who helps him break the spell.\",\n",
       "  u'popularity': 181.799244,\n",
       "  u'poster_path': u'/tWqifoYuwLETmmasnGHO7xBjEtt.jpg',\n",
       "  u'release_date': u'2017-03-17',\n",
       "  u'title': u'Beauty and the Beast',\n",
       "  u'video': False,\n",
       "  u'vote_average': 7.1,\n",
       "  u'vote_count': 1300},\n",
       " {u'adult': False,\n",
       "  u'backdrop_path': u'/5pAGnkFYSsFJ99ZxDIYnhQbQFXs.jpg',\n",
       "  u'genre_ids': [28, 18, 878],\n",
       "  u'id': 263115,\n",
       "  u'original_language': u'en',\n",
       "  u'original_title': u'Logan',\n",
       "  u'overview': u\"In the near future, a weary Logan cares for an ailing Professor X in a hide out on the Mexican border. But Logan's attempts to hide from the world and his legacy are up-ended when a young mutant arrives, being pursued by dark forces.\",\n",
       "  u'popularity': 112.854142,\n",
       "  u'poster_path': u'/45Y1G5FEgttPAwjTYic6czC9xCn.jpg',\n",
       "  u'release_date': u'2017-02-28',\n",
       "  u'title': u'Logan',\n",
       "  u'video': False,\n",
       "  u'vote_average': 7.6,\n",
       "  u'vote_count': 2115},\n",
       " {u'adult': False,\n",
       "  u'backdrop_path': u'/fxDXp8un4qNY9b1dLd7SH6CKzC.jpg',\n",
       "  u'genre_ids': [16, 35, 18, 10751, 10402],\n",
       "  u'id': 335797,\n",
       "  u'original_language': u'en',\n",
       "  u'original_title': u'Sing',\n",
       "  u'overview': u'A koala named Buster recruits his best friend to help him drum up business for his theater by hosting a singing competition.',\n",
       "  u'popularity': 76.005907,\n",
       "  u'poster_path': u'/s9ye87pvq2IaDvjv9x4IOXVjvA7.jpg',\n",
       "  u'release_date': u'2016-11-23',\n",
       "  u'title': u'Sing',\n",
       "  u'video': False,\n",
       "  u'vote_average': 6.7,\n",
       "  u'vote_count': 1007},\n",
       " {u'adult': False,\n",
       "  u'backdrop_path': u'/pGwChWiAY1bdoxL79sXmaFBlYJH.jpg',\n",
       "  u'genre_ids': [878, 28, 12, 14],\n",
       "  u'id': 293167,\n",
       "  u'original_language': u'en',\n",
       "  u'original_title': u'Kong: Skull Island',\n",
       "  u'overview': u'Explore the mysterious and dangerous home of the king of the apes as a team of explorers ventures deep inside the treacherous, primordial island.',\n",
       "  u'popularity': 57.579741,\n",
       "  u'poster_path': u'/5wBbdNb0NdGiZQJYoKHRv6VbiOr.jpg',\n",
       "  u'release_date': u'2017-03-08',\n",
       "  u'title': u'Kong: Skull Island',\n",
       "  u'video': False,\n",
       "  u'vote_average': 6.1,\n",
       "  u'vote_count': 887},\n",
       " {u'adult': False,\n",
       "  u'backdrop_path': u'/lsRhmB7m36pEX0UHpkpJSE48BW5.jpg',\n",
       "  u'genre_ids': [28, 18, 878],\n",
       "  u'id': 315837,\n",
       "  u'original_language': u'en',\n",
       "  u'original_title': u'Ghost in the Shell',\n",
       "  u'overview': u\"In the near future, Major is the first of her kind: a human saved from a terrible crash, who is cyber-enhanced to be a perfect soldier devoted to stopping the world's most dangerous criminals.\",\n",
       "  u'popularity': 53.86811,\n",
       "  u'poster_path': u'/myRzRzCxdfUWjkJWgpHHZ1oGkJd.jpg',\n",
       "  u'release_date': u'2017-03-29',\n",
       "  u'title': u'Ghost in the Shell',\n",
       "  u'video': False,\n",
       "  u'vote_average': 6.4,\n",
       "  u'vote_count': 264},\n",
       " {u'adult': False,\n",
       "  u'backdrop_path': u'/dkMD5qlogeRMiEixC4YNPUvax2T.jpg',\n",
       "  u'genre_ids': [28, 12, 878, 53],\n",
       "  u'id': 135397,\n",
       "  u'original_language': u'en',\n",
       "  u'original_title': u'Jurassic World',\n",
       "  u'overview': u'Twenty-two years after the events of Jurassic Park, Isla Nublar now features a fully functioning dinosaur theme park, Jurassic World, as originally envisioned by John Hammond.',\n",
       "  u'popularity': 50.574254,\n",
       "  u'poster_path': u'/jjBgi2r5cRt36xF6iNUEhzscEcb.jpg',\n",
       "  u'release_date': u'2015-06-09',\n",
       "  u'title': u'Jurassic World',\n",
       "  u'video': False,\n",
       "  u'vote_average': 6.5,\n",
       "  u'vote_count': 6725},\n",
       " {u'adult': False,\n",
       "  u'backdrop_path': u'/kMzU4PkXcKcDMngCxXji0BbVXsu.jpg',\n",
       "  u'genre_ids': [12, 28, 14],\n",
       "  u'id': 259316,\n",
       "  u'original_language': u'en',\n",
       "  u'original_title': u'Fantastic Beasts and Where to Find Them',\n",
       "  u'overview': u'In 1926, Newt Scamander arrives at the Magical Congress of the United States of America with a magically expanded briefcase, which houses a number of dangerous creatures and their habitats. When the creatures escape from the briefcase, it sends the American wizarding authorities after Newt, and threatens to strain even further the state of magical and non-magical relations.',\n",
       "  u'popularity': 39.239379,\n",
       "  u'poster_path': u'/gri0DDxsERr6B2sOR1fGLxLpSLx.jpg',\n",
       "  u'release_date': u'2016-11-16',\n",
       "  u'title': u'Fantastic Beasts and Where to Find Them',\n",
       "  u'video': False,\n",
       "  u'vote_average': 7,\n",
       "  u'vote_count': 3137},\n",
       " {u'adult': False,\n",
       "  u'backdrop_path': u'/58BJwS1XzkSsVZsz24OnyuAroHd.jpg',\n",
       "  u'genre_ids': [16, 35, 10751],\n",
       "  u'id': 295693,\n",
       "  u'original_language': u'en',\n",
       "  u'original_title': u'The Boss Baby',\n",
       "  u'overview': u\"A story about how a new baby's arrival impacts a family, told from the point of view of a delightfully unreliable narrator, a wildly imaginative 7 year old named Tim.\",\n",
       "  u'popularity': 37.847337,\n",
       "  u'poster_path': u'/67NXPYvK92oQgEQvLppF2Siol9q.jpg',\n",
       "  u'release_date': u'2017-03-23',\n",
       "  u'title': u'The Boss Baby',\n",
       "  u'video': False,\n",
       "  u'vote_average': 5.8,\n",
       "  u'vote_count': 204},\n",
       " {u'adult': False,\n",
       "  u'backdrop_path': u'/xu9zaAevzQ5nnrsXN6JcahLnG4i.jpg',\n",
       "  u'genre_ids': [12, 18, 878],\n",
       "  u'id': 157336,\n",
       "  u'original_language': u'en',\n",
       "  u'original_title': u'Interstellar',\n",
       "  u'overview': u'Interstellar chronicles the adventures of a group of explorers who make use of a newly discovered wormhole to surpass the limitations on human space travel and conquer the vast distances involved in an interstellar voyage.',\n",
       "  u'popularity': 35.271389,\n",
       "  u'poster_path': u'/nBNZadXqJSdt05SHLqgT0HuC5Gm.jpg',\n",
       "  u'release_date': u'2014-11-05',\n",
       "  u'title': u'Interstellar',\n",
       "  u'video': False,\n",
       "  u'vote_average': 8,\n",
       "  u'vote_count': 8073},\n",
       " {u'adult': False,\n",
       "  u'backdrop_path': u'/4G6FNNLSIVrwSRZyFs91hQ3lZtD.jpg',\n",
       "  u'genre_ids': [27, 53],\n",
       "  u'id': 381288,\n",
       "  u'original_language': u'en',\n",
       "  u'original_title': u'Split',\n",
       "  u'overview': u'Though Kevin has evidenced 23 personalities to his trusted psychiatrist, Dr. Fletcher, there remains one still submerged who is set to materialize and dominate all the others. Compelled to abduct three teenage girls led by the willful, observant Casey, Kevin reaches a war for survival among all of those contained within him \\u2014 as well as everyone around him \\u2014 as the walls between his compartments shatter apart.',\n",
       "  u'popularity': 34.606082,\n",
       "  u'poster_path': u'/rXMWOZiCt6eMX22jWuTOSdQ98bY.jpg',\n",
       "  u'release_date': u'2017-01-19',\n",
       "  u'title': u'Split',\n",
       "  u'video': False,\n",
       "  u'vote_average': 6.7,\n",
       "  u'vote_count': 1565},\n",
       " {u'adult': False,\n",
       "  u'backdrop_path': u'/iWRKYHTFlsrxQtfQqFOQyceL83P.jpg',\n",
       "  u'genre_ids': [12, 16, 35, 10751],\n",
       "  u'id': 127380,\n",
       "  u'original_language': u'en',\n",
       "  u'original_title': u'Finding Dory',\n",
       "  u'overview': u'Dory is reunited with her friends Nemo and Marlin in the search for answers about her past. What can she remember? Who are her parents? And where did she learn to speak Whale?',\n",
       "  u'popularity': 31.769363,\n",
       "  u'poster_path': u'/z09QAf8WbZncbitewNk6lKYMZsh.jpg',\n",
       "  u'release_date': u'2016-06-16',\n",
       "  u'title': u'Finding Dory',\n",
       "  u'video': False,\n",
       "  u'vote_average': 6.7,\n",
       "  u'vote_count': 2917},\n",
       " {u'adult': False,\n",
       "  u'backdrop_path': u'/phszHPFVhPHhMZgo0fWTKBDQsJA.jpg',\n",
       "  u'genre_ids': [28, 12, 878, 53],\n",
       "  u'id': 76341,\n",
       "  u'original_language': u'en',\n",
       "  u'original_title': u'Mad Max: Fury Road',\n",
       "  u'overview': u\"An apocalyptic story set in the furthest reaches of our planet, in a stark desert landscape where humanity is broken, and most everyone is crazed fighting for the necessities of life. Within this world exist two rebels on the run who just might be able to restore order. There's Max, a man of action and a man of few words, who seeks peace of mind following the loss of his wife and child in the aftermath of the chaos. And Furiosa, a woman of action and a woman who believes her path to survival may be achieved if she can make it across the desert back to her childhood homeland.\",\n",
       "  u'popularity': 27.899866,\n",
       "  u'poster_path': u'/kqjL17yufvn9OVLyXYpvtyrFfak.jpg',\n",
       "  u'release_date': u'2015-05-13',\n",
       "  u'title': u'Mad Max: Fury Road',\n",
       "  u'video': False,\n",
       "  u'vote_average': 7.2,\n",
       "  u'vote_count': 7372},\n",
       " {u'adult': False,\n",
       "  u'backdrop_path': u'/hES8wGmkxHa54z7hqUMpw5TIs09.jpg',\n",
       "  u'genre_ids': [27, 878, 53],\n",
       "  u'id': 395992,\n",
       "  u'original_language': u'en',\n",
       "  u'original_title': u'Life',\n",
       "  u'overview': u'The six-member crew of the International Space Station is tasked with studying a sample from Mars that may be the first proof of extra-terrestrial life, which proves more intelligent than ever expected.',\n",
       "  u'popularity': 27.874087,\n",
       "  u'poster_path': u'/h2mhfbEBGABSHo2vXG1ECMKAJa7.jpg',\n",
       "  u'release_date': u'2017-03-23',\n",
       "  u'title': u'Life',\n",
       "  u'video': False,\n",
       "  u'vote_average': 6.1,\n",
       "  u'vote_count': 207},\n",
       " {u'adult': False,\n",
       "  u'backdrop_path': u'/bHarw8xrmQeqf3t8HpuMY7zoK4x.jpg',\n",
       "  u'genre_ids': [28, 878, 12],\n",
       "  u'id': 118340,\n",
       "  u'original_language': u'en',\n",
       "  u'original_title': u'Guardians of the Galaxy',\n",
       "  u'overview': u'Light years from Earth, 26 years after being abducted, Peter Quill finds himself the prime target of a manhunt after discovering an orb wanted by Ronan the Accuser.',\n",
       "  u'popularity': 26.576314,\n",
       "  u'poster_path': u'/y31QB9kn3XSudA15tV7UWQ9XLuW.jpg',\n",
       "  u'release_date': u'2014-07-30',\n",
       "  u'title': u'Guardians of the Galaxy',\n",
       "  u'video': False,\n",
       "  u'vote_average': 7.9,\n",
       "  u'vote_count': 6734},\n",
       " {u'adult': False,\n",
       "  u'backdrop_path': u'/n1y094tVDFATSzkTnFxoGZ1qNsG.jpg',\n",
       "  u'genre_ids': [28, 12, 35, 10749],\n",
       "  u'id': 293660,\n",
       "  u'original_language': u'en',\n",
       "  u'original_title': u'Deadpool',\n",
       "  u'overview': u'Based upon Marvel Comics\\u2019 most unconventional anti-hero, DEADPOOL tells the origin story of former Special Forces operative turned mercenary Wade Wilson, who after being subjected to a rogue experiment that leaves him with accelerated healing powers, adopts the alter ego Deadpool. Armed with his new abilities and a dark, twisted sense of humor, Deadpool hunts down the man who nearly destroyed his life.',\n",
       "  u'popularity': 26.382598,\n",
       "  u'poster_path': u'/inVq3FRqcYIRl2la8iZikYYxFNR.jpg',\n",
       "  u'release_date': u'2016-02-09',\n",
       "  u'title': u'Deadpool',\n",
       "  u'video': False,\n",
       "  u'vote_average': 7.3,\n",
       "  u'vote_count': 7639},\n",
       " {u'adult': False,\n",
       "  u'backdrop_path': u'/tZjVVIYXACV4IIIhXeIM59ytqwS.jpg',\n",
       "  u'genre_ids': [28, 18, 878, 10752],\n",
       "  u'id': 330459,\n",
       "  u'original_language': u'en',\n",
       "  u'original_title': u'Rogue One: A Star Wars Story',\n",
       "  u'overview': u'A rogue band of resistance fighters unite for a mission to steal the Death Star plans and bring a new hope to the galaxy.',\n",
       "  u'popularity': 25.082126,\n",
       "  u'poster_path': u'/qjiskwlV1qQzRCjpV0cL9pEMF9a.jpg',\n",
       "  u'release_date': u'2016-12-14',\n",
       "  u'title': u'Rogue One: A Star Wars Story',\n",
       "  u'video': False,\n",
       "  u'vote_average': 7.3,\n",
       "  u'vote_count': 2932},\n",
       " {u'adult': False,\n",
       "  u'backdrop_path': u'/tFI8VLMgSTTU38i8TIsklfqS9Nl.jpg',\n",
       "  u'genre_ids': [28, 12, 14, 878],\n",
       "  u'id': 284052,\n",
       "  u'original_language': u'en',\n",
       "  u'original_title': u'Doctor Strange',\n",
       "  u'overview': u'After his career is destroyed, a brilliant but arrogant surgeon gets a new lease on life when a sorcerer takes him under his wing and trains him to defend the world against evil.',\n",
       "  u'popularity': 23.441433,\n",
       "  u'poster_path': u'/4PiiNGXj1KENTmCBHeN6Mskj2Fq.jpg',\n",
       "  u'release_date': u'2016-10-25',\n",
       "  u'title': u'Doctor Strange',\n",
       "  u'video': False,\n",
       "  u'vote_average': 6.9,\n",
       "  u'vote_count': 3230},\n",
       " {u'adult': False,\n",
       "  u'backdrop_path': u'/yIZ1xendyqKvY3FGeeUYUd5X9Mm.jpg',\n",
       "  u'genre_ids': [18, 878],\n",
       "  u'id': 329865,\n",
       "  u'original_language': u'en',\n",
       "  u'original_title': u'Arrival',\n",
       "  u'overview': u'Taking place after alien crafts land around the world, an expert linguist is recruited by the military to determine whether they come in peace or are a threat.',\n",
       "  u'popularity': 22.476241,\n",
       "  u'poster_path': u'/hLudzvGfpi6JlwUnsNhXwKKg4j.jpg',\n",
       "  u'release_date': u'2016-11-10',\n",
       "  u'title': u'Arrival',\n",
       "  u'video': False,\n",
       "  u'vote_average': 6.9,\n",
       "  u'vote_count': 3336},\n",
       " {u'adult': False,\n",
       "  u'backdrop_path': u'/m5O3SZvQ6EgD5XXXLPIP1wLppeW.jpg',\n",
       "  u'genre_ids': [28, 878],\n",
       "  u'id': 271110,\n",
       "  u'original_language': u'en',\n",
       "  u'original_title': u'Captain America: Civil War',\n",
       "  u'overview': u'Following the events of Age of Ultron, the collective governments of the world pass an act designed to regulate all superhuman activity. This polarizes opinion amongst the Avengers, causing two factions to side with Iron Man or Captain America, which causes an epic battle between former allies.',\n",
       "  u'popularity': 21.467025,\n",
       "  u'poster_path': u'/kSBXou5Ac7vEqKd97wotJumyJvU.jpg',\n",
       "  u'release_date': u'2016-04-27',\n",
       "  u'title': u'Captain America: Civil War',\n",
       "  u'video': False,\n",
       "  u'vote_average': 6.9,\n",
       "  u'vote_count': 5127},\n",
       " {u'adult': False,\n",
       "  u'backdrop_path': u'/mFb0ygcue4ITixDkdr7wm1Tdarx.jpg',\n",
       "  u'genre_ids': [28, 53],\n",
       "  u'id': 245891,\n",
       "  u'original_language': u'en',\n",
       "  u'original_title': u'John Wick',\n",
       "  u'overview': u'Ex-hitman John Wick comes out of retirement to track down the gangsters that took everything from him.',\n",
       "  u'popularity': 20.206953,\n",
       "  u'poster_path': u'/5vHssUeVe25bMrof1HyaPyWgaP.jpg',\n",
       "  u'release_date': u'2014-10-22',\n",
       "  u'title': u'John Wick',\n",
       "  u'video': False,\n",
       "  u'vote_average': 7,\n",
       "  u'vote_count': 3665}]"
      ]
     },
     "execution_count": 34,
     "metadata": {},
     "output_type": "execute_result"
    }
   ],
   "source": [
    "this[\"results\"]"
   ]
  },
  {
   "cell_type": "code",
   "execution_count": 11,
   "metadata": {
    "collapsed": false,
    "scrolled": true
   },
   "outputs": [
    {
     "data": {
      "text/plain": [
       "{u'genres': [{u'id': 28, u'name': u'Action'},\n",
       "  {u'id': 12, u'name': u'Adventure'},\n",
       "  {u'id': 16, u'name': u'Animation'},\n",
       "  {u'id': 35, u'name': u'Comedy'},\n",
       "  {u'id': 80, u'name': u'Crime'},\n",
       "  {u'id': 99, u'name': u'Documentary'},\n",
       "  {u'id': 18, u'name': u'Drama'},\n",
       "  {u'id': 10751, u'name': u'Family'},\n",
       "  {u'id': 14, u'name': u'Fantasy'},\n",
       "  {u'id': 36, u'name': u'History'},\n",
       "  {u'id': 27, u'name': u'Horror'},\n",
       "  {u'id': 10402, u'name': u'Music'},\n",
       "  {u'id': 9648, u'name': u'Mystery'},\n",
       "  {u'id': 10749, u'name': u'Romance'},\n",
       "  {u'id': 878, u'name': u'Science Fiction'},\n",
       "  {u'id': 10770, u'name': u'TV Movie'},\n",
       "  {u'id': 53, u'name': u'Thriller'},\n",
       "  {u'id': 10752, u'name': u'War'},\n",
       "  {u'id': 37, u'name': u'Western'}]}"
      ]
     },
     "execution_count": 11,
     "metadata": {},
     "output_type": "execute_result"
    }
   ],
   "source": [
    "genre = tmdb.Genres()\n",
    "response = genre.list()\n",
    "response"
   ]
  },
  {
   "cell_type": "code",
   "execution_count": 12,
   "metadata": {
    "collapsed": false
   },
   "outputs": [
    {
     "name": "stdout",
     "output_type": "stream",
     "text": [
      "{u'id': 28, u'name': u'Action'}\n",
      "{u'id': 12, u'name': u'Adventure'}\n",
      "{u'id': 16, u'name': u'Animation'}\n",
      "{u'id': 35, u'name': u'Comedy'}\n",
      "{u'id': 80, u'name': u'Crime'}\n",
      "{u'id': 99, u'name': u'Documentary'}\n",
      "{u'id': 18, u'name': u'Drama'}\n",
      "{u'id': 10751, u'name': u'Family'}\n",
      "{u'id': 14, u'name': u'Fantasy'}\n",
      "{u'id': 36, u'name': u'History'}\n",
      "{u'id': 27, u'name': u'Horror'}\n",
      "{u'id': 10402, u'name': u'Music'}\n",
      "{u'id': 9648, u'name': u'Mystery'}\n",
      "{u'id': 10749, u'name': u'Romance'}\n",
      "{u'id': 878, u'name': u'Science Fiction'}\n",
      "{u'id': 10770, u'name': u'TV Movie'}\n",
      "{u'id': 53, u'name': u'Thriller'}\n",
      "{u'id': 10752, u'name': u'War'}\n",
      "{u'id': 37, u'name': u'Western'}\n"
     ]
    }
   ],
   "source": [
    "for t in response[\"genres\"]:\n",
    "    print t"
   ]
  },
  {
   "cell_type": "code",
   "execution_count": 13,
   "metadata": {
    "collapsed": false
   },
   "outputs": [
    {
     "data": {
      "text/plain": [
       "28"
      ]
     },
     "execution_count": 13,
     "metadata": {},
     "output_type": "execute_result"
    }
   ],
   "source": [
    "response[\"genres\"][0][\"id\"]"
   ]
  },
  {
   "cell_type": "code",
   "execution_count": 22,
   "metadata": {
    "collapsed": false
   },
   "outputs": [],
   "source": [
    "ia = IMDb()\n",
    "s_result = ia.search_movie('The Untouchables')"
   ]
  },
  {
   "cell_type": "code",
   "execution_count": 15,
   "metadata": {
    "collapsed": false
   },
   "outputs": [],
   "source": [
    "id_names = []\n",
    "for s in this[\"results\"]:\n",
    "    id_names.append(ia.search_movie(s[\"title\"])[0].movieID)"
   ]
  },
  {
   "cell_type": "code",
   "execution_count": 16,
   "metadata": {
    "collapsed": false
   },
   "outputs": [
    {
     "data": {
      "text/plain": [
       "'0094226'"
      ]
     },
     "execution_count": 16,
     "metadata": {},
     "output_type": "execute_result"
    }
   ],
   "source": [
    "s_result[0].movieID"
   ]
  },
  {
   "cell_type": "code",
   "execution_count": 17,
   "metadata": {
    "collapsed": false
   },
   "outputs": [
    {
     "data": {
      "text/plain": [
       "['2771200',\n",
       " '3315342',\n",
       " '3470600',\n",
       " '3731562',\n",
       " '1219827',\n",
       " '0369610',\n",
       " '3183660',\n",
       " '3874544',\n",
       " '0816692',\n",
       " '4972582',\n",
       " '2277860',\n",
       " '1392190',\n",
       " '5442430',\n",
       " '2015381',\n",
       " '1431045',\n",
       " '3748528',\n",
       " '1211837',\n",
       " '2543164',\n",
       " '3498820',\n",
       " '2911666']"
      ]
     },
     "execution_count": 17,
     "metadata": {},
     "output_type": "execute_result"
    }
   ],
   "source": [
    "id_names"
   ]
  },
  {
   "cell_type": "code",
   "execution_count": 20,
   "metadata": {
    "collapsed": false
   },
   "outputs": [],
   "source": [
    "Genres = dict()\n",
    "\n",
    "for i in id_names:\n",
    "    movie_object = ia.get_movie(i)\n",
    "    Genres[i] = movie_object[\"genres\"]"
   ]
  },
  {
   "cell_type": "code",
   "execution_count": null,
   "metadata": {
    "collapsed": false
   },
   "outputs": [],
   "source": []
  },
  {
   "cell_type": "code",
   "execution_count": 58,
   "metadata": {
    "collapsed": false
   },
   "outputs": [
    {
     "data": {
      "text/plain": [
       "4"
      ]
     },
     "execution_count": 58,
     "metadata": {},
     "output_type": "execute_result"
    }
   ],
   "source": [
    "len(Genres.values()[0])"
   ]
  },
  {
   "cell_type": "code",
   "execution_count": null,
   "metadata": {
    "collapsed": false
   },
   "outputs": [],
   "source": [
    "\n",
    "\n"
   ]
  },
  {
   "cell_type": "code",
   "execution_count": 129,
   "metadata": {
    "collapsed": false
   },
   "outputs": [
    {
     "name": "stdout",
     "output_type": "stream",
     "text": [
      "[u'Action', u'Adventure', u'Fantasy', u'Sci-Fi']\n",
      "[u'Animation', u'Comedy', u'Family', u'Music']\n",
      "[u'Action', u'Adventure', u'Sci-Fi']\n",
      "[u'Animation', u'Comedy', u'Family']\n",
      "[u'Adventure', u'Family', u'Fantasy']\n",
      "[u'Horror', u'Sci-Fi', u'Thriller']\n",
      "[u'Action', u'Adventure', u'Sci-Fi']\n",
      "[u'Adventure', u'Drama', u'Sci-Fi']\n",
      "[u'Action', u'Adventure', u'Fantasy', u'Sci-Fi']\n",
      "[u'Horror', u'Thriller']\n",
      "[u'Animation', u'Adventure', u'Comedy', u'Family']\n",
      "[u'Drama', u'Mystery', u'Sci-Fi', u'Thriller']\n",
      "[u'Action', u'Adventure', u'Sci-Fi']\n",
      "[u'Action', u'Adventure', u'Sci-Fi', u'Thriller']\n",
      "[u'Action', u'Crime', u'Drama', u'Mystery', u'Sci-Fi', u'Thriller']\n",
      "[u'Action', u'Crime', u'Thriller']\n",
      "[u'Family', u'Fantasy', u'Musical', u'Romance']\n",
      "[u'Action', u'Adventure', u'Comedy', u'Romance', u'Sci-Fi']\n",
      "[u'Action', u'Drama', u'Sci-Fi', u'Thriller']\n",
      "[u'Action', u'Adventure', u'Sci-Fi']\n",
      "[0, 0, 0, 0, 0]\n"
     ]
    }
   ],
   "source": [
    "q = [0,1,2,3,4,5,6,7,8,9,10,11,12,13,14,15,16,17,18,19]\n",
    "\n",
    "x = [0]\n",
    "\n",
    "Pairing_Array = []\n",
    "\n",
    "Action_Adventure = 0\n",
    "Action_Horror = 0\n",
    "Action_Drama = 0\n",
    "Adventure_Scifi = 0\n",
    "Adventure_Thriller = 0\n",
    "\n",
    "for i in q:   \n",
    "    \n",
    "    x = len(Genres.values()[i])\n",
    "    c = Genres.values()[i]\n",
    "    \n",
    "    print c\n",
    "        \n",
    "    if 'Action' in c and 'Adventure' in c:\n",
    "        \n",
    "        Pairing_Array.append(1)\n",
    "    \n",
    "    if 'Action' in c and 'Horror' in c:\n",
    "        \n",
    "        Pairing_Array.append(2)\n",
    "        \n",
    "    if 'Action' in c and 'Drama' in c:\n",
    "        \n",
    "        Pairing_Array.append(3)\n",
    "\n",
    "    if 'Adventure' in c and 'Sci-Fi' in c:\n",
    "        \n",
    "        Pairing_Array.append(4)\n",
    "            \n",
    "    if 'Adventure' in c and 'Thriller' in c:\n",
    "        \n",
    "        Pairing_Array.append(5)\n",
    "\n",
    "\n",
    "Pairing_Viz = [Action_Drama, Action_Adventure, Action_Horror, Adventure_Scifi, Adventure_Thriller]\n",
    "        \n",
    "print Pairing_Viz"
   ]
  },
  {
   "cell_type": "code",
   "execution_count": 130,
   "metadata": {
    "collapsed": false
   },
   "outputs": [
    {
     "name": "stdout",
     "output_type": "stream",
     "text": [
      "[1, 4, 1, 4, 1, 4, 4, 1, 4, 1, 4, 1, 4, 5, 3, 1, 4, 3, 1, 4]\n"
     ]
    }
   ],
   "source": [
    "print Pairing_Array"
   ]
  },
  {
   "cell_type": "code",
   "execution_count": 131,
   "metadata": {
    "collapsed": false
   },
   "outputs": [
    {
     "data": {
      "image/png": "[encoded data removed]",
      "text/plain": [
       "<matplotlib.figure.Figure at 0x111824210>"
      ]
     },
     "metadata": {},
     "output_type": "display_data"
    }
   ],
   "source": [
    "plt.hist(Pairing_Array)\n",
    "plt.title(\"Genre Pairings\")\n",
    "plt.xlabel(\"Genre Type\")\n",
    "plt.ylabel(\"Frequency\")\n",
    "\n",
    "plt.show()"
   ]
  },
  {
   "cell_type": "code",
   "execution_count": null,
   "metadata": {
    "collapsed": true
   },
   "outputs": [],
   "source": []
  }
 ],
 "metadata": {
  "anaconda-cloud": {},
  "kernelspec": {
   "display_name": "Python [default]",
   "language": "python",
   "name": "python2"
  },
  "language_info": {
   "codemirror_mode": {
    "name": "ipython",
    "version": 2
   },
   "file_extension": ".py",
   "mimetype": "text/x-python",
   "name": "python",
   "nbconvert_exporter": "python",
   "pygments_lexer": "ipython2",
   "version": "2.7.12"
  }
 },
 "nbformat": 4,
 "nbformat_minor": 2
}
