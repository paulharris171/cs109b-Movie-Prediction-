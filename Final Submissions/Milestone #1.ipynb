{
 "cells": [
  {
   "cell_type": "markdown",
   "metadata": {},
   "source": [
    "# CS109b: Milestone 1\n",
    "\n",
    "### By: Paul Harris, Mitchell Foster, Luke Morgan-Scott"
   ]
  },
  {
   "cell_type": "markdown",
   "metadata": {},
   "source": [
    "#### Step 1: Import Libraries and API Code\n",
    "\n",
    "Code to generate the movie genre pairs and a suitable visualization of the result\n",
    "Additional visualization sketches and EDA with a focus on movie genres\n",
    "A list of questions you could answer with this and related data. Get creative here!"
   ]
  },
  {
   "cell_type": "code",
   "execution_count": 81,
   "metadata": {
    "collapsed": false
   },
   "outputs": [],
   "source": [
    "#import libraries\n",
    "%matplotlib inline\n",
    "import tmdbsimple as tmdb\n",
    "from imdb import IMDb\n",
    "import time\n",
    "import matplotlib\n",
    "import matplotlib.pyplot as plt\n",
    "import itertools\n",
    "import pandas as pd\n",
    "import numpy as np\n",
    "from IPython.display import Image\n",
    "from IPython.core.display import HTML "
   ]
  },
  {
   "cell_type": "code",
   "execution_count": 3,
   "metadata": {
    "collapsed": true
   },
   "outputs": [],
   "source": [
    "#URL for key\n",
    "#https://api.themoviedb.org/3/movie/550?api_key=822771ddecfdc59a99893ffeaa1ec9b4\n",
    "tmdb.API_KEY = '455e4535405115285f107dc76734be7e'"
   ]
  },
  {
   "cell_type": "markdown",
   "metadata": {},
   "source": [
    "**Our favorite movie is the Matrix, so we worked from there.**\n",
    "\n",
    "First we found the movie poster link."
   ]
  },
  {
   "cell_type": "code",
   "execution_count": 4,
   "metadata": {
    "collapsed": false
   },
   "outputs": [
    {
     "name": "stdout",
     "output_type": "stream",
     "text": [
      "The link for the movie poster is found below:\n"
     ]
    },
    {
     "data": {
      "text/plain": [
       "u'http://image.tmdb.org/t/p/w185/lZpWprJqbIFpEV5uoHfoK0KCnTW.jpg'"
      ]
     },
     "execution_count": 4,
     "metadata": {},
     "output_type": "execute_result"
    }
   ],
   "source": [
    "#Search for The Matrix in TMDb\n",
    "search = tmdb.Search()\n",
    "response = search.movie(query='The Matrix')\n",
    "\n",
    "#Initialize base structure for the posters \n",
    "base_url = \"http://image.tmdb.org/t/p/w185\"\n",
    "matrix_poster = base_url + response['results'][0]['poster_path']\n",
    "#Then write code to append the poster path to the end of base_url\n",
    "print \"The link for the movie poster is found below:\"\n",
    "matrix_poster\n",
    "\n",
    "# Here's the final product link  http://image.tmdb.org/t/p/w185/lZpWprJqbIFpEV5uoHfoK0KCnTW.jpg"
   ]
  },
  {
   "cell_type": "markdown",
   "metadata": {},
   "source": [
    "Then we found the genre for the movie in both databases."
   ]
  },
  {
   "cell_type": "code",
   "execution_count": 5,
   "metadata": {
    "collapsed": false
   },
   "outputs": [
    {
     "name": "stdout",
     "output_type": "stream",
     "text": [
      "The Matrix genres in IMDB are:\n"
     ]
    },
    {
     "data": {
      "text/plain": [
       "[u'Action', u'Sci-Fi']"
      ]
     },
     "execution_count": 5,
     "metadata": {},
     "output_type": "execute_result"
    }
   ],
   "source": [
    "#Get Matrix genre\n",
    "ia = IMDb()\n",
    "the_matrix = ia.get_movie('0133093')\n",
    "print \"The Matrix genres in IMDB are:\"\n",
    "the_matrix['genres']"
   ]
  },
  {
   "cell_type": "code",
   "execution_count": 6,
   "metadata": {
    "collapsed": false
   },
   "outputs": [
    {
     "name": "stdout",
     "output_type": "stream",
     "text": [
      "The Matrix genres in TMDB are:\n",
      "Action\n",
      "Science Fiction\n"
     ]
    }
   ],
   "source": [
    "#Initialize search for matrix\n",
    "matrix_genre_id = response[\"results\"][0][\"genre_ids\"]\n",
    "genres = tmdb.Genres()\n",
    "genres = genres.list()\n",
    "print \"The Matrix genres in TMDB are:\"\n",
    "for genre in genres[\"genres\"]:\n",
    "    if(int(genre[\"id\"]) in matrix_genre_id):\n",
    "                print genre[\"name\"]"
   ]
  },
  {
   "cell_type": "markdown",
   "metadata": {},
   "source": [
    "#### Step 2: Top 10 Movies w/ Genre"
   ]
  },
  {
   "cell_type": "code",
   "execution_count": 7,
   "metadata": {
    "collapsed": false
   },
   "outputs": [],
   "source": [
    "discover = tmdb.Discover()\n",
    "pop = discover.movie(sort_by = \"popularity.desc\")[\"results\"][0:10]"
   ]
  },
  {
   "cell_type": "code",
   "execution_count": 204,
   "metadata": {
    "collapsed": false
   },
   "outputs": [
    {
     "name": "stdout",
     "output_type": "stream",
     "text": [
      "The top 10 movies are:\n",
      "Beauty and the Beast\n",
      "Logan\n",
      "Sing\n",
      "Kong: Skull Island\n",
      "Ghost in the Shell\n",
      "Jurassic World\n",
      "Fantastic Beasts and Where to Find Them\n",
      "The Boss Baby\n",
      "Interstellar\n",
      "Split\n"
     ]
    }
   ],
   "source": [
    "print \"The top 10 movies are:\"\n",
    "for s in pop:\n",
    "    print(s['title']) #s['id'], s['release_date'], s['popularity'])"
   ]
  },
  {
   "cell_type": "code",
   "execution_count": 205,
   "metadata": {
    "collapsed": false
   },
   "outputs": [
    {
     "name": "stdout",
     "output_type": "stream",
     "text": [
      "The genres for top 10 movie (in the TMDB database) are:\n",
      "Beauty and the Beast:\n",
      "Fantasy\n",
      "Music\n",
      "Romance\n",
      "\n",
      "Logan:\n",
      "Action\n",
      "Drama\n",
      "Science Fiction\n",
      "\n",
      "Sing:\n",
      "Animation\n",
      "Comedy\n",
      "Drama\n",
      "Family\n",
      "Music\n",
      "\n",
      "Kong: Skull Island:\n",
      "Science Fiction\n",
      "Action\n",
      "Adventure\n",
      "Fantasy\n",
      "\n",
      "Ghost in the Shell:\n",
      "Action\n",
      "Drama\n",
      "Science Fiction\n",
      "\n",
      "Jurassic World:\n",
      "Action\n",
      "Adventure\n",
      "Science Fiction\n",
      "Thriller\n",
      "\n",
      "Fantastic Beasts and Where to Find Them:\n",
      "Adventure\n",
      "Action\n",
      "Fantasy\n",
      "\n",
      "The Boss Baby:\n",
      "Animation\n",
      "Comedy\n",
      "Family\n",
      "\n",
      "Interstellar:\n",
      "Adventure\n",
      "Drama\n",
      "Science Fiction\n",
      "\n",
      "Split:\n",
      "Horror\n",
      "Thriller\n",
      "\n"
     ]
    }
   ],
   "source": [
    "print \"The genres for top 10 movie (in the TMDB database) are:\"\n",
    "for array in pop:\n",
    "    print array[\"title\"] + \":\"\n",
    "    for ID in array[\"genre_ids\"]:\n",
    "        for genre in genres[\"genres\"]:\n",
    "            #print genre[\"id\"]\n",
    "            #print number\n",
    "            #print genre[\"id\"] == number\n",
    "            if(int(genre[\"id\"]) == ID):\n",
    "                print genre[\"name\"]\n",
    "    print \"\""
   ]
  },
  {
   "cell_type": "code",
   "execution_count": 207,
   "metadata": {
    "collapsed": true
   },
   "outputs": [],
   "source": [
    "id_names = []\n",
    "for s in pop:\n",
    "    id_names.append(ia.search_movie(s[\"title\"])[0].movieID) "
   ]
  },
  {
   "cell_type": "code",
   "execution_count": 210,
   "metadata": {
    "collapsed": false
   },
   "outputs": [
    {
     "name": "stdout",
     "output_type": "stream",
     "text": [
      "The genres for top 10 movie (in the TMDB database) are:\n",
      "Beauty and the Beast\n",
      "Family\n",
      "Fantasy\n",
      "Musical\n",
      "Romance\n",
      "\n",
      "Logan\n",
      "Action\n",
      "Drama\n",
      "Sci-Fi\n",
      "Thriller\n",
      "\n",
      "Sing\n",
      "Animation\n",
      "Comedy\n",
      "Family\n",
      "Music\n",
      "\n",
      "Kong: Skull Island\n",
      "Action\n",
      "Adventure\n",
      "Fantasy\n",
      "Sci-Fi\n",
      "\n",
      "Ghost in the Shell\n",
      "Action\n",
      "Crime\n",
      "Drama\n",
      "Mystery\n",
      "Sci-Fi\n",
      "Thriller\n",
      "\n",
      "Jurassic World\n",
      "Action\n",
      "Adventure\n",
      "Sci-Fi\n",
      "\n",
      "Fantastic Beasts and Where to Find Them\n",
      "Adventure\n",
      "Family\n",
      "Fantasy\n",
      "\n",
      "The Boss Baby\n",
      "Animation\n",
      "Comedy\n",
      "Family\n",
      "\n",
      "Interstellar\n",
      "Adventure\n",
      "Drama\n",
      "Sci-Fi\n",
      "\n",
      "Split\n",
      "Horror\n",
      "Thriller\n",
      "\n"
     ]
    }
   ],
   "source": [
    "print \"The genres for top 10 movie (in the TMDB database) are:\"\n",
    "for i in id_names:\n",
    "    movie_object = ia.get_movie(i)\n",
    "    print movie_object[\"title\"]\n",
    "    for g in movie_object[\"genres\"]:\n",
    "        print g\n",
    "    print \"\""
   ]
  },
  {
   "cell_type": "markdown",
   "metadata": {},
   "source": [
    "#### Step 3: Potential Genre Prediction Conflicts"
   ]
  },
  {
   "cell_type": "markdown",
   "metadata": {},
   "source": [
    "We think that there will be two main potential challenges in predicting genres for movies based on the data that we have looked at.\n",
    "\n",
    "The first challenge will be aggregating all of the data that we have across all sources (IMDB, TMDB, and other potential sources such as Wikipedia, Rotten Tomatos, etc). Getting all of the data in one easy to many type and structure will be incredibly important to easy manipulation, which will involve the standardization of the data.\n",
    "\n",
    "The second challenge will be adding to the existing data with important and pertinent trends, such as which actors, directors, descriptions, pair well with genre."
   ]
  },
  {
   "cell_type": "markdown",
   "metadata": {},
   "source": [
    "#### Step 4: Pairing and Visualizations"
   ]
  },
  {
   "cell_type": "code",
   "execution_count": 8,
   "metadata": {
    "collapsed": true
   },
   "outputs": [
    {
     "name": "stdout",
     "output_type": "stream",
     "text": [
      "[u'Action', u'Adventure', u'Fantasy', u'Sci-Fi']\n",
      "[u'Animation', u'Comedy', u'Family', u'Music']\n",
      "[u'Action', u'Adventure', u'Sci-Fi']\n",
      "[u'Animation', u'Comedy', u'Family']\n",
      "[u'Adventure', u'Family', u'Fantasy']\n",
      "[u'Horror', u'Sci-Fi', u'Thriller']\n",
      "[u'Action', u'Adventure', u'Sci-Fi']\n",
      "[u'Adventure', u'Drama', u'Sci-Fi']\n",
      "[u'Action', u'Adventure', u'Fantasy', u'Sci-Fi']\n",
      "[u'Horror', u'Thriller']\n",
      "[u'Animation', u'Adventure', u'Comedy', u'Family']\n",
      "[u'Drama', u'Mystery', u'Sci-Fi', u'Thriller']\n",
      "[u'Action', u'Adventure', u'Sci-Fi']\n",
      "[u'Action', u'Adventure', u'Sci-Fi', u'Thriller']\n",
      "[u'Action', u'Crime', u'Drama', u'Mystery', u'Sci-Fi', u'Thriller']\n",
      "[u'Action', u'Crime', u'Thriller']\n",
      "[u'Family', u'Fantasy', u'Musical', u'Romance']\n",
      "[u'Action', u'Adventure', u'Comedy', u'Romance', u'Sci-Fi']\n",
      "[u'Action', u'Drama', u'Sci-Fi', u'Thriller']\n",
      "[u'Action', u'Adventure', u'Sci-Fi']\n",
      "[0, 0, 0, 0, 0]\n"
     ]
    }
   ],
   "source": [
    "Pairing_Array = []\n",
    "\n",
    "discover = tmdb.Discover()\n",
    "top = discover.movie(sort_by = \"popularity.desc\")[\"results\"]\n",
    "names = []\n",
    "for s in top:\n",
    "    names.append(ia.search_movie(s[\"title\"])[0].movieID) \n",
    "\n",
    "Raw = dict()\n",
    "for i in names:\n",
    "    movie_object = ia.get_movie(i)\n",
    "    Raw[i] = movie_object[\"genres\"]\n",
    "    "
   ]
  },
  {
   "cell_type": "code",
   "execution_count": 33,
   "metadata": {
    "collapsed": false
   },
   "outputs": [],
   "source": [
    "#Get an exhaustive list of all genres\n",
    "\n",
    "all_genres = []\n",
    "for genre in genres[\"genres\"]:\n",
    "    all_genres.append(genre['name'])"
   ]
  },
  {
   "cell_type": "code",
   "execution_count": 51,
   "metadata": {
    "collapsed": false
   },
   "outputs": [],
   "source": [
    "exhaustive_list = list(itertools.combinations(all_genres,2))"
   ]
  },
  {
   "cell_type": "code",
   "execution_count": 61,
   "metadata": {
    "collapsed": false
   },
   "outputs": [
    {
     "name": "stdout",
     "output_type": "stream",
     "text": [
      "(u'Action', u'Adventure')\n"
     ]
    }
   ],
   "source": [
    "print exhaustive_list[0]"
   ]
  },
  {
   "cell_type": "code",
   "execution_count": 66,
   "metadata": {
    "collapsed": false
   },
   "outputs": [],
   "source": [
    "database = pd.read_csv('https://raw.githubusercontent.com/sundeepblue/movie_rating_prediction/master/movie_metadata.csv')"
   ]
  },
  {
   "cell_type": "code",
   "execution_count": 73,
   "metadata": {
    "collapsed": false
   },
   "outputs": [
    {
     "name": "stdout",
     "output_type": "stream",
     "text": [
      "[345, 470, 88, 262, 224, 17, 737, 589]\n"
     ]
    }
   ],
   "source": [
    "# list of Common Genre pairs for viz simplicity\n",
    "Action_Adventure = 0\n",
    "Action_Horror = 0\n",
    "Action_Drama = 0\n",
    "Adventure_Scifi = 0\n",
    "Adventure_Thriller = 0\n",
    "Horror_Romance = 0\n",
    "Drama_Romance = 0 \n",
    "Romance_Comedy = 0\n",
    "\n",
    "\n",
    "# Get the count of the amount of times two genres have been listed together\n",
    "for i in range(0,len(database)):   \n",
    "    \n",
    "    #x = len(Raw.values()[i])\n",
    "    c = database['genres'][i]\n",
    "    \n",
    "    #print c\n",
    "        \n",
    "    if 'Action' in c and 'Adventure' in c:\n",
    "        Action_Adventure += 1\n",
    "        #Pairing_Array.append(1)\n",
    "    \n",
    "    if 'Action' in c and 'Horror' in c:\n",
    "        Action_Horror += 1\n",
    "        #Pairing_Array.append(2)\n",
    "        \n",
    "    if 'Action' in c and 'Drama' in c:\n",
    "        Action_Drama += 1\n",
    "        #Pairing_Array.append(3)\n",
    "\n",
    "    if 'Adventure' in c and 'Sci-Fi' in c:\n",
    "        Adventure_Scifi += 1\n",
    "        #Pairing_Array.append(4)\n",
    "            \n",
    "    if 'Adventure' in c and 'Thriller' in c:\n",
    "        Adventure_Thriller += 1\n",
    "        #Pairing_Array.append(5)\n",
    "    \n",
    "    if 'Horror' in c and 'Romance' in c:\n",
    "        Horror_Romance += 1\n",
    "    \n",
    "    if 'Drama' in c and 'Romance' in c: \n",
    "        Drama_Romance += 1\n",
    "    \n",
    "    if 'Romance' in c and 'Comedy' in c:\n",
    "        Romance_Comedy += 1\n",
    "\n",
    "Pairing_Viz = [Action_Drama, Action_Adventure, Action_Horror, Adventure_Scifi, Adventure_Thriller, Horror_Romance, Drama_Romance,\n",
    "              Romance_Comedy]\n",
    "        \n",
    "print Pairing_Viz"
   ]
  },
  {
   "cell_type": "code",
   "execution_count": 79,
   "metadata": {
    "collapsed": false
   },
   "outputs": [
    {
     "data": {
      "image/png": "[encoded data removed]",
      "text/plain": [
       "<matplotlib.figure.Figure at 0xa914278>"
      ]
     },
     "metadata": {},
     "output_type": "display_data"
    }
   ],
   "source": [
    "plt.hist(Pairing_Viz)\n",
    "plt.title(\"Genre Pairings\")\n",
    "plt.xlabel(\"Genre Type\")\n",
    "plt.ylabel(\"Frequency\")\n",
    "\n",
    "plt.show()"
   ]
  },
  {
   "cell_type": "markdown",
   "metadata": {},
   "source": [
    "#### Step 5: Visualizations"
   ]
  },
  {
   "cell_type": "code",
   "execution_count": 80,
   "metadata": {
    "collapsed": false
   },
   "outputs": [
    {
     "data": {
      "image/png": "[encoded data removed]",
      "text/plain": [
       "<matplotlib.figure.Figure at 0x8324828>"
      ]
     },
     "metadata": {},
     "output_type": "display_data"
    }
   ],
   "source": [
    "plt.rcdefaults()\n",
    "fig, ax = plt.subplots()\n",
    "\n",
    "# Example data\n",
    "top_genres = ['Action_Drama', 'Action_Adventure', 'Action_Horror', 'Adventure_Scifi', 'Adventure_Thriller', 'Horror_Romance', \n",
    "              'Drama_Romance','Romance_Comedy']\n",
    "\n",
    "y_pos = np.arange(len(top_genres))\n",
    "#performance = 3 + 10 * np.random.rand(len(people))\n",
    "#error = np.random.rand(len(people))\n",
    "\n",
    "ax.barh(y_pos, Pairing_Viz, align='center',\n",
    "        color='blue', ecolor='black')\n",
    "ax.set_yticks(y_pos)\n",
    "ax.set_yticklabels(top_genres)\n",
    "ax.invert_yaxis()  # labels read top-to-bottom\n",
    "ax.set_xlabel('Frequency')\n",
    "ax.set_title('Frequency Distribution of Top Movie Genres')\n",
    "\n",
    "plt.show()"
   ]
  },
  {
   "cell_type": "markdown",
   "metadata": {},
   "source": [
    "#### Step 6: Questions"
   ]
  },
  {
   "cell_type": "markdown",
   "metadata": {
    "collapsed": true
   },
   "source": [
    "1. Because we have data which includes the movie descriptions, we may be able to discover whether sentiment analysis could help to match a movie to a genre. Would this be a feasible idea given the project scope? \n",
    "\n",
    "2. We could answer the question of which movie genres tend to have higher ratings\n",
    "\n",
    "3. Which movie genres appear most frequently in the top 250 movies? What about movie genre pairs? \n",
    "\n",
    "4. Which directors make which genre(s) of movies most frequently?\n",
    "\n",
    "5. Are Movie Sequals usually rated higher than the first? Does a genre change during a series of movies (i.e. are the genres for all of the matrix movies the same?) \n"
   ]
  },
  {
   "cell_type": "code",
   "execution_count": 85,
   "metadata": {
    "collapsed": false
   },
   "outputs": [
    {
     "data": {
      "text/html": [
       "<img src=\"http://imgur.com/nzqDJUk.jpg\"/>"
      ],
      "text/plain": [
       "<IPython.core.display.Image object>"
      ]
     },
     "execution_count": 85,
     "metadata": {},
     "output_type": "execute_result"
    }
   ],
   "source": [
    "Image(url = \"http://imgur.com/nzqDJUk.jpg\")"
   ]
  }
 ],
 "metadata": {
  "anaconda-cloud": {},
  "kernelspec": {
   "display_name": "Python [default]",
   "language": "python",
   "name": "python2"
  },
  "language_info": {
   "codemirror_mode": {
    "name": "ipython",
    "version": 2
   },
   "file_extension": ".py",
   "mimetype": "text/x-python",
   "name": "python",
   "nbconvert_exporter": "python",
   "pygments_lexer": "ipython2",
   "version": "2.7.12"
  }
 },
 "nbformat": 4,
 "nbformat_minor": 2
}
