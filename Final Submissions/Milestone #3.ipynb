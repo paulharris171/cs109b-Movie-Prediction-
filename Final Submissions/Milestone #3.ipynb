{
 "cells": [
  {
   "cell_type": "code",
   "execution_count": 1,
   "metadata": {
    "collapsed": false
   },
   "outputs": [],
   "source": [
    "#import libraries\n",
    "%matplotlib inline\n",
    "from sklearn.linear_model import LogisticRegression\n",
    "from sklearn import metrics, cross_validation\n",
    "from sklearn.grid_search import GridSearchCV\n",
    "from sklearn.cross_validation import train_test_split\n",
    "from sklearn.ensemble import RandomForestClassifier\n",
    "from sklearn.feature_extraction.text import CountVectorizer\n",
    "from sklearn.feature_extraction.text import TfidfVectorizer \n",
    "from sklearn import metrics\n",
    "from sklearn.cross_validation import cross_val_score\n",
    "import statsmodels.api as sm\n",
    "import matplotlib\n",
    "import matplotlib.pyplot as plt\n",
    "import pandas as pd\n",
    "import numpy as np\n",
    "from nltk.corpus import stopwords\n",
    "from nltk.stem.porter import *\n",
    "from collections import Counter\n",
    "from ggplot import *"
   ]
  },
  {
   "cell_type": "code",
   "execution_count": 2,
   "metadata": {
    "collapsed": true
   },
   "outputs": [],
   "source": [
    "data = pd.read_csv(\"https://raw.githubusercontent.com/paulharris171/cs109b-Movie-Prediction-/master/complete_movie_dataframe.csv?token=AGPPqFHbMgXcP8jy4oQWDNAl4S1virz4ks5ZE2RJwA%3D%3D\")"
   ]
  },
  {
   "cell_type": "code",
   "execution_count": 3,
   "metadata": {
    "collapsed": true
   },
   "outputs": [],
   "source": [
    "data = data[data['genre_adjusted'] != 'Game-Show']\n",
    "data = data[data['genre_adjusted'] != 'Film-Noir']\n",
    "data = data[data['genre_adjusted'] != 'News']\n",
    "data = data[data['genre_adjusted'] != 'Reality-TV']\n",
    "data = data[data['genre_adjusted'] != 'Short']"
   ]
  },
  {
   "cell_type": "code",
   "execution_count": 10,
   "metadata": {
    "collapsed": false
   },
   "outputs": [
    {
     "data": {
      "text/plain": [
       "array(['Sci-Fi', 'Action-Comedy', 'Animation', 'Family', 'Western',\n",
       "       'Adventure', 'History', 'Drama', 'Sport', 'Horror', 'Rom-Com',\n",
       "       'War', 'Mystery', 'Action', 'Crime', 'Biography', 'Comedy',\n",
       "       'Musical', 'Documentary', 'Fantasy', 'Thriller', 'Romance', 'Music'], dtype=object)"
      ]
     },
     "execution_count": 10,
     "metadata": {},
     "output_type": "execute_result"
    }
   ],
   "source": [
    "data['genre_adjusted'].unique()"
   ]
  },
  {
   "cell_type": "code",
   "execution_count": 281,
   "metadata": {
    "collapsed": false
   },
   "outputs": [
    {
     "data": {
      "text/html": [
       "<div>\n",
       "<table border=\"1\" class=\"dataframe\">\n",
       "  <thead>\n",
       "    <tr style=\"text-align: right;\">\n",
       "      <th></th>\n",
       "      <th>director_name</th>\n",
       "      <th>budget</th>\n",
       "      <th>genres</th>\n",
       "      <th>actor_1_name</th>\n",
       "      <th>movie_title</th>\n",
       "      <th>plot_keywords</th>\n",
       "      <th>content_rating</th>\n",
       "      <th>genre_adjusted</th>\n",
       "      <th>log_budget</th>\n",
       "      <th>all_keywords</th>\n",
       "    </tr>\n",
       "  </thead>\n",
       "  <tbody>\n",
       "    <tr>\n",
       "      <th>0</th>\n",
       "      <td>James Bobin</td>\n",
       "      <td>170000000.0</td>\n",
       "      <td>['Adventure', 'Family', 'Fantasy']</td>\n",
       "      <td>Johnny Depp</td>\n",
       "      <td>Alice Through the Looking Glass</td>\n",
       "      <td>['clock', 'dark fantasy', 'mad hatter', 'queen...</td>\n",
       "      <td>PG</td>\n",
       "      <td>Family</td>\n",
       "      <td>18.951309</td>\n",
       "      <td>['James Bobin', 'Johnny Depp', 'clock', 'dark'...</td>\n",
       "    </tr>\n",
       "    <tr>\n",
       "      <th>1</th>\n",
       "      <td>Jon M. Chu</td>\n",
       "      <td>90000000.0</td>\n",
       "      <td>['Action', 'Adventure', 'Comedy', 'Crime', 'My...</td>\n",
       "      <td>Daniel Radcliffe</td>\n",
       "      <td>Now You See Me 2</td>\n",
       "      <td>['card trick', 'london england', 'magician', '...</td>\n",
       "      <td>PG-13</td>\n",
       "      <td>Mystery</td>\n",
       "      <td>18.315320</td>\n",
       "      <td>['Jon M. Chu', 'Daniel Radcliffe', 'card', 'tr...</td>\n",
       "    </tr>\n",
       "    <tr>\n",
       "      <th>2</th>\n",
       "      <td>Michael Mann</td>\n",
       "      <td>70000000.0</td>\n",
       "      <td>['Action', 'Crime', 'Drama', 'Mystery', 'Thril...</td>\n",
       "      <td>Chris Hemsworth</td>\n",
       "      <td>Blackhat</td>\n",
       "      <td>['chinese', 'computer', 'cybercrime', 'hacker'...</td>\n",
       "      <td>R</td>\n",
       "      <td>Mystery</td>\n",
       "      <td>18.064006</td>\n",
       "      <td>['Michael Mann', 'Chris Hemsworth', 'chinese',...</td>\n",
       "    </tr>\n",
       "    <tr>\n",
       "      <th>3</th>\n",
       "      <td>Joel Schumacher</td>\n",
       "      <td>70000000.0</td>\n",
       "      <td>['Drama', 'Musical', 'Romance', 'Thriller']</td>\n",
       "      <td>Gerard Butler</td>\n",
       "      <td>The Phantom of the Opera</td>\n",
       "      <td>['based on stage musical based on novel', 'dis...</td>\n",
       "      <td>PG-13</td>\n",
       "      <td>Musical</td>\n",
       "      <td>18.064006</td>\n",
       "      <td>['Joel Schumacher', 'Gerard Butler', 'based', ...</td>\n",
       "    </tr>\n",
       "    <tr>\n",
       "      <th>4</th>\n",
       "      <td>Peter Ramsey</td>\n",
       "      <td>145000000.0</td>\n",
       "      <td>['Adventure', 'Animation', 'Family', 'Fantasy']</td>\n",
       "      <td>Hugh Jackman</td>\n",
       "      <td>Rise of the Guardians</td>\n",
       "      <td>['belief', 'box office hit', 'children', 'new ...</td>\n",
       "      <td>PG</td>\n",
       "      <td>Animation</td>\n",
       "      <td>18.792244</td>\n",
       "      <td>['Peter Ramsey', 'Hugh Jackman', 'belief', 'bo...</td>\n",
       "    </tr>\n",
       "  </tbody>\n",
       "</table>\n",
       "</div>"
      ],
      "text/plain": [
       "     director_name       budget  \\\n",
       "0      James Bobin  170000000.0   \n",
       "1       Jon M. Chu   90000000.0   \n",
       "2     Michael Mann   70000000.0   \n",
       "3  Joel Schumacher   70000000.0   \n",
       "4     Peter Ramsey  145000000.0   \n",
       "\n",
       "                                              genres      actor_1_name  \\\n",
       "0                 ['Adventure', 'Family', 'Fantasy']       Johnny Depp   \n",
       "1  ['Action', 'Adventure', 'Comedy', 'Crime', 'My...  Daniel Radcliffe   \n",
       "2  ['Action', 'Crime', 'Drama', 'Mystery', 'Thril...   Chris Hemsworth   \n",
       "3        ['Drama', 'Musical', 'Romance', 'Thriller']     Gerard Butler   \n",
       "4    ['Adventure', 'Animation', 'Family', 'Fantasy']      Hugh Jackman   \n",
       "\n",
       "                        movie_title  \\\n",
       "0  Alice Through the Looking Glass    \n",
       "1                 Now You See Me 2    \n",
       "2                         Blackhat    \n",
       "3         The Phantom of the Opera    \n",
       "4            Rise of the Guardians    \n",
       "\n",
       "                                       plot_keywords content_rating  \\\n",
       "0  ['clock', 'dark fantasy', 'mad hatter', 'queen...             PG   \n",
       "1  ['card trick', 'london england', 'magician', '...          PG-13   \n",
       "2  ['chinese', 'computer', 'cybercrime', 'hacker'...              R   \n",
       "3  ['based on stage musical based on novel', 'dis...          PG-13   \n",
       "4  ['belief', 'box office hit', 'children', 'new ...             PG   \n",
       "\n",
       "  genre_adjusted  log_budget  \\\n",
       "0         Family   18.951309   \n",
       "1        Mystery   18.315320   \n",
       "2        Mystery   18.064006   \n",
       "3        Musical   18.064006   \n",
       "4      Animation   18.792244   \n",
       "\n",
       "                                        all_keywords  \n",
       "0  ['James Bobin', 'Johnny Depp', 'clock', 'dark'...  \n",
       "1  ['Jon M. Chu', 'Daniel Radcliffe', 'card', 'tr...  \n",
       "2  ['Michael Mann', 'Chris Hemsworth', 'chinese',...  \n",
       "3  ['Joel Schumacher', 'Gerard Butler', 'based', ...  \n",
       "4  ['Peter Ramsey', 'Hugh Jackman', 'belief', 'bo...  "
      ]
     },
     "execution_count": 281,
     "metadata": {},
     "output_type": "execute_result"
    }
   ],
   "source": [
    "data.head()"
   ]
  },
  {
   "cell_type": "markdown",
   "metadata": {},
   "source": [
    "#### Separate the desired features from the genre labels."
   ]
  },
  {
   "cell_type": "code",
   "execution_count": 4,
   "metadata": {
    "collapsed": false
   },
   "outputs": [],
   "source": [
    "#exclude actor name for now, but make a dataframe with features and genre titles \n",
    "\n",
    "data_features = data[['all_keywords']]\n",
    "data_y = data[['genre_adjusted']]\n",
    "#data_features = pd.get_dummies(data_features, columns=['content_rating'])"
   ]
  },
  {
   "cell_type": "markdown",
   "metadata": {},
   "source": [
    "#### Split into train/test"
   ]
  },
  {
   "cell_type": "code",
   "execution_count": 5,
   "metadata": {
    "collapsed": false
   },
   "outputs": [],
   "source": [
    "X_train, X_test, y_train, y_test = train_test_split(data_features, data_y, test_size=0.33, random_state=41)"
   ]
  },
  {
   "cell_type": "markdown",
   "metadata": {},
   "source": [
    "# Random Forest x Bag of Words"
   ]
  },
  {
   "cell_type": "markdown",
   "metadata": {},
   "source": [
    "#### The first approach considered was a random forest fit using a bag of words sourced from plot_keywords. We wondered if keywords alone have significant predictive ability so we checked this. We vectorized our plot_keywords (Below we display a count of the amount of times each keyword appeared in our dataset, we trained a random forest model with the associated genres and then we used this to predict genre from the plot_keywords in the test set."
   ]
  },
  {
   "cell_type": "code",
   "execution_count": 6,
   "metadata": {
    "collapsed": false
   },
   "outputs": [],
   "source": [
    "vectorizer = TfidfVectorizer( max_features = 40000, ngram_range = ( 1, 2 ), \n",
    "    sublinear_tf = True )\n",
    "\n",
    "train_x = vectorizer.fit_transform(X_train['all_keywords'])\n",
    "\n",
    "test_x = vectorizer.transform(X_test['all_keywords'])\n",
    "\n",
    "all_x = vectorizer.fit_transform(data_features['all_keywords'])"
   ]
  },
  {
   "cell_type": "code",
   "execution_count": 269,
   "metadata": {
    "collapsed": false
   },
   "outputs": [
    {
     "name": "stderr",
     "output_type": "stream",
     "text": [
      "C:\\Users\\Excaliburxiv\\AppData\\Local\\Continuum\\Anaconda2\\lib\\site-packages\\ipykernel\\__main__.py:13: SettingWithCopyWarning: \n",
      "A value is trying to be set on a copy of a slice from a DataFrame\n",
      "\n",
      "See the caveats in the documentation: http://pandas.pydata.org/pandas-docs/stable/indexing.html#indexing-view-versus-copy\n"
     ]
    }
   ],
   "source": [
    "def stem_tokens(tokens, stemmer):\n",
    "    stemmed = []\n",
    "    for item in tokens:\n",
    "        stemmed.append(stemmer.stem(item))\n",
    "    return stemmed\n",
    "\n",
    "stemmer = PorterStemmer()\n",
    "stemmed =[]\n",
    "data2['stemmed'] = data2['all_keywords']\n",
    "\n",
    "\n",
    "for i in range(len(data2['stemmed'])):\n",
    "    data2['stemmed'][i] = stem_tokens(data2['all_keywords'][i], stemmer)\n"
   ]
  },
  {
   "cell_type": "code",
   "execution_count": 28,
   "metadata": {
    "collapsed": true
   },
   "outputs": [],
   "source": [
    "#vectorizer = CountVectorizer(analyzer = \"word\",   \n",
    "#                             tokenizer = None,    \n",
    "#                             preprocessor = None, \n",
    "#                             stop_words = 'english',   \n",
    "#                             max_features = 5000) \n",
    "\n",
    "#train_data_features = vectorizer.fit_transform(data['plot_keywords'])\n",
    "\n",
    "#train_data_features = train_data_features.toarray()"
   ]
  },
  {
   "cell_type": "code",
   "execution_count": 32,
   "metadata": {
    "collapsed": false,
    "scrolled": true
   },
   "outputs": [],
   "source": [
    "#What words do we have?\n",
    "#vocab = vectorizer.get_feature_names()\n",
    "#print vocab"
   ]
  },
  {
   "cell_type": "code",
   "execution_count": 23,
   "metadata": {
    "collapsed": false
   },
   "outputs": [],
   "source": [
    "# Prints the count and the individual plot_keyword\n",
    "#dist = np.sum(train_data_features, axis=0)\n",
    "#for tag, count in zip(vocab, dist):\n",
    "#    print count, tag"
   ]
  },
  {
   "cell_type": "markdown",
   "metadata": {},
   "source": [
    "#### Initialize Random Forest Model "
   ]
  },
  {
   "cell_type": "code",
   "execution_count": 350,
   "metadata": {
    "collapsed": false
   },
   "outputs": [
    {
     "name": "stderr",
     "output_type": "stream",
     "text": [
      "C:\\Users\\Excaliburxiv\\AppData\\Local\\Continuum\\Anaconda2\\lib\\site-packages\\ipykernel\\__main__.py:3: DataConversionWarning: A column-vector y was passed when a 1d array was expected. Please change the shape of y to (n_samples,), for example using ravel().\n",
      "  app.launch_new_instance()\n"
     ]
    }
   ],
   "source": [
    "# Random forest model \n",
    "forest = RandomForestClassifier(n_estimators = 100) \n",
    "forest = forest.fit(train_x, y_train)"
   ]
  },
  {
   "cell_type": "code",
   "execution_count": 351,
   "metadata": {
    "collapsed": false
   },
   "outputs": [
    {
     "data": {
      "text/plain": [
       "0.36617100371747213"
      ]
     },
     "execution_count": 351,
     "metadata": {},
     "output_type": "execute_result"
    }
   ],
   "source": [
    "forest.score(test_x,y_test)"
   ]
  },
  {
   "cell_type": "code",
   "execution_count": null,
   "metadata": {
    "collapsed": true
   },
   "outputs": [],
   "source": [
    "forest.predict(test_x)"
   ]
  },
  {
   "cell_type": "markdown",
   "metadata": {},
   "source": [
    "#### Using 10 fold CV with Parameter Tuning using Grid Search"
   ]
  },
  {
   "cell_type": "code",
   "execution_count": 11,
   "metadata": {
    "collapsed": false
   },
   "outputs": [
    {
     "data": {
      "text/plain": [
       "GridSearchCV(cv=10, error_score='raise',\n",
       "       estimator=RandomForestClassifier(bootstrap=True, class_weight=None, criterion='gini',\n",
       "            max_depth=None, max_features='auto', max_leaf_nodes=None,\n",
       "            min_samples_leaf=1, min_samples_split=2,\n",
       "            min_weight_fraction_leaf=0.0, n_estimators=10, n_jobs=1,\n",
       "            oob_score=True, random_state=None, verbose=0, warm_start=False),\n",
       "       fit_params={}, iid=True, n_jobs=1,\n",
       "       param_grid={'n_estimators': [100, 150, 200]},\n",
       "       pre_dispatch='2*n_jobs', refit=True, scoring=None, verbose=0)"
      ]
     },
     "execution_count": 11,
     "metadata": {},
     "output_type": "execute_result"
    }
   ],
   "source": [
    "# 10-Fold Cross validation with paramter tuning\n",
    "\n",
    "param_grid = {\n",
    "                 'n_estimators': [100, 150, 200],\n",
    "             }\n",
    "\n",
    "clf = RandomForestClassifier(oob_score = True)\n",
    "grid_clf = GridSearchCV(clf, param_grid, cv=10)\n",
    "grid_clf.fit(all_x, data_y['genre_adjusted'])\n",
    "\n",
    "#print np.mean(cross_val_score(forest, all_x, data_y['genre_adjusted'], cv=5))"
   ]
  },
  {
   "cell_type": "code",
   "execution_count": 12,
   "metadata": {
    "collapsed": false
   },
   "outputs": [
    {
     "name": "stdout",
     "output_type": "stream",
     "text": [
      "{'n_estimators': 200}\n"
     ]
    }
   ],
   "source": [
    "print grid_clf.best_params_"
   ]
  },
  {
   "cell_type": "code",
   "execution_count": 13,
   "metadata": {
    "collapsed": false
   },
   "outputs": [
    {
     "name": "stdout",
     "output_type": "stream",
     "text": [
      "0.377764706147\n"
     ]
    }
   ],
   "source": [
    "print np.mean(cross_val_score(RandomForestClassifier(n_estimators=200), all_x, data_y['genre_adjusted'], cv=10))"
   ]
  },
  {
   "cell_type": "code",
   "execution_count": 14,
   "metadata": {
    "collapsed": false
   },
   "outputs": [
    {
     "data": {
      "text/plain": [
       "RandomForestClassifier(bootstrap=True, class_weight=None, criterion='gini',\n",
       "            max_depth=None, max_features='auto', max_leaf_nodes=None,\n",
       "            min_samples_leaf=1, min_samples_split=2,\n",
       "            min_weight_fraction_leaf=0.0, n_estimators=200, n_jobs=1,\n",
       "            oob_score=True, random_state=None, verbose=0, warm_start=False)"
      ]
     },
     "execution_count": 14,
     "metadata": {},
     "output_type": "execute_result"
    }
   ],
   "source": [
    "best_model_tree = grid_clf.best_estimator_\n",
    "best_model_tree"
   ]
  },
  {
   "cell_type": "code",
   "execution_count": 19,
   "metadata": {
    "collapsed": false
   },
   "outputs": [
    {
     "data": {
      "text/plain": [
       "0.39046839844548986"
      ]
     },
     "execution_count": 19,
     "metadata": {},
     "output_type": "execute_result"
    }
   ],
   "source": [
    "best_model_tree.oob_score_"
   ]
  },
  {
   "cell_type": "markdown",
   "metadata": {},
   "source": [
    "#### Overall, our random forest approach has a classification accuracy of around 37-39%. "
   ]
  },
  {
   "cell_type": "markdown",
   "metadata": {},
   "source": [
    "# Logistic Regression Approach  "
   ]
  },
  {
   "cell_type": "code",
   "execution_count": 21,
   "metadata": {
    "collapsed": true
   },
   "outputs": [
    {
     "name": "stderr",
     "output_type": "stream",
     "text": [
      "C:\\Users\\Excaliburxiv\\AppData\\Local\\Continuum\\Anaconda2\\lib\\site-packages\\sklearn\\utils\\validation.py:515: DataConversionWarning: A column-vector y was passed when a 1d array was expected. Please change the shape of y to (n_samples, ), for example using ravel().\n",
      "  y = column_or_1d(y, warn=True)\n"
     ]
    },
    {
     "data": {
      "text/plain": [
       "array(['Horror', 'Sci-Fi', 'Rom-Com', ..., 'Rom-Com', 'Rom-Com', 'Sci-Fi'], dtype=object)"
      ]
     },
     "execution_count": 21,
     "metadata": {},
     "output_type": "execute_result"
    }
   ],
   "source": [
    "log_model = LogisticRegression()\n",
    "log_model.fit(train_x, y_train)\n",
    "\n",
    "log_model.predict(train_x)"
   ]
  },
  {
   "cell_type": "code",
   "execution_count": 22,
   "metadata": {
    "collapsed": false
   },
   "outputs": [
    {
     "data": {
      "text/plain": [
       "0.31226765799256506"
      ]
     },
     "execution_count": 22,
     "metadata": {},
     "output_type": "execute_result"
    }
   ],
   "source": [
    "log_model.score(test_x,y_test)"
   ]
  },
  {
   "cell_type": "markdown",
   "metadata": {},
   "source": [
    "#### Cross validation for Logistic Regression"
   ]
  },
  {
   "cell_type": "code",
   "execution_count": 329,
   "metadata": {
    "collapsed": false
   },
   "outputs": [
    {
     "name": "stdout",
     "output_type": "stream",
     "text": [
      "0.30245398773\n"
     ]
    }
   ],
   "source": [
    "predicted = cross_validation.cross_val_predict(LogisticRegression(), all_x, data_y['genre_adjusted'], cv=5)\n",
    "print metrics.accuracy_score(data_y, predicted)"
   ]
  },
  {
   "cell_type": "markdown",
   "metadata": {},
   "source": [
    "#### Logistic Regression returns a classification accuracy of around 30%"
   ]
  },
  {
   "cell_type": "code",
   "execution_count": 328,
   "metadata": {
    "collapsed": false
   },
   "outputs": [
    {
     "name": "stderr",
     "output_type": "stream",
     "text": [
      "C:\\Users\\Excaliburxiv\\AppData\\Local\\Continuum\\Anaconda2\\lib\\site-packages\\sklearn\\utils\\validation.py:515: DataConversionWarning: A column-vector y was passed when a 1d array was expected. Please change the shape of y to (n_samples, ), for example using ravel().\n",
      "  y = column_or_1d(y, warn=True)\n"
     ]
    },
    {
     "data": {
      "text/plain": [
       "0.66012269938650303"
      ]
     },
     "execution_count": 328,
     "metadata": {},
     "output_type": "execute_result"
    }
   ],
   "source": [
    "log_model = LogisticRegression()\n",
    "log_model.fit(all_x, data_y)\n",
    "\n",
    "log_model.score(all_x,data_y)\n",
    "\n",
    "#log_model.predict(train_x)"
   ]
  },
  {
   "cell_type": "markdown",
   "metadata": {},
   "source": [
    "#### Discussion of differences between models, and performances: \n",
    "\n",
    "#### Random forest - We like the fact that a random forest is non-linear, robust and flexible so we decided to implement it, but because we have so many word features with not many overlaps doesn't surprise us that it does not perform the best (euphemism). \n",
    "\n",
    "#### Logistic regression - Simple yet effective classical classification algorithm. Though the data may need some tweaking, the method itself may have its flaws for this project in general. Are the decision boundaries even expectedly linear for our features?? i.e., we expected genres to be distinguishable based upon our features for x_train, but that belief doesn't necessarily make it _true_. Our choice of features was based upon what we _thought_ would work as good features to begin with. "
   ]
  },
  {
   "cell_type": "markdown",
   "metadata": {},
   "source": [
    "# Initial Testing"
   ]
  },
  {
   "cell_type": "code",
   "execution_count": null,
   "metadata": {
    "collapsed": true
   },
   "outputs": [],
   "source": [
    "#Search for The Matrix in TMDb\n",
    "search = tmdb.Search()\n",
    "response = search.movie(query='The Matrix')\n",
    "\n",
    "#Initialize base structure for the posters \n",
    "base_url = \"http://image.tmdb.org/t/p/w185\"\n",
    "matrix_poster = base_url + response['results'][0]['poster_path']\n",
    "#Then write code to append the poster path to the end of base_url\n",
    "print \"The link for the movie poster is found below:\"\n",
    "matrix_poster"
   ]
  },
  {
   "cell_type": "code",
   "execution_count": null,
   "metadata": {
    "collapsed": true
   },
   "outputs": [],
   "source": [
    "this = np.array([[1,1],[1,2]])"
   ]
  },
  {
   "cell_type": "code",
   "execution_count": null,
   "metadata": {
    "collapsed": true
   },
   "outputs": [],
   "source": [
    "search = tmdb.Search()\n",
    "response = search.movie(query='The Matrix')\n",
    "base_url = \"http://image.tmdb.org/t/p/w185\"\n",
    "matrix_poster = base_url + response['results'][0]['poster_path']\n",
    "#Then write code to append the poster path to the end of base_url\n",
    "print \"The link for the movie poster is found below:\"\n",
    "matrix_poster\n",
    "import urllib\n",
    "from PIL import Image\n",
    "urllib.urlretrieve(matrix_poster, \"local-filename.jpg\")\n",
    "one = Image.open('local-filename.jpg')"
   ]
  },
  {
   "cell_type": "code",
   "execution_count": null,
   "metadata": {
    "collapsed": true
   },
   "outputs": [],
   "source": [
    "one2 = one.resize((64, 64), Image.ANTIALIAS)\n",
    "one2"
   ]
  },
  {
   "cell_type": "code",
   "execution_count": null,
   "metadata": {
    "collapsed": true
   },
   "outputs": [],
   "source": [
    "um = np.array(one2)"
   ]
  },
  {
   "cell_type": "code",
   "execution_count": null,
   "metadata": {
    "collapsed": true
   },
   "outputs": [],
   "source": [
    "this = np.expand_dims(um, axis = 0)\n",
    "this.shape"
   ]
  },
  {
   "cell_type": "code",
   "execution_count": null,
   "metadata": {
    "collapsed": true
   },
   "outputs": [],
   "source": [
    "yus = np.stack((um,um))"
   ]
  },
  {
   "cell_type": "code",
   "execution_count": null,
   "metadata": {
    "collapsed": true
   },
   "outputs": [],
   "source": [
    "ruh = np.concatenate((yus,yus))"
   ]
  },
  {
   "cell_type": "code",
   "execution_count": null,
   "metadata": {
    "collapsed": true
   },
   "outputs": [],
   "source": [
    "np.concatenate((yus,ruh)).shape"
   ]
  },
  {
   "cell_type": "code",
   "execution_count": null,
   "metadata": {
    "collapsed": true
   },
   "outputs": [],
   "source": [
    "data[\"movie_title\"][1][:-2]"
   ]
  },
  {
   "cell_type": "markdown",
   "metadata": {},
   "source": [
    "# Implementation"
   ]
  },
  {
   "cell_type": "markdown",
   "metadata": {},
   "source": [
    "Viewing data genres there are currently 13 genres"
   ]
  },
  {
   "cell_type": "code",
   "execution_count": null,
   "metadata": {
    "collapsed": true
   },
   "outputs": [],
   "source": [
    "print set(data[\"genre_adjusted\"])\n",
    "len(set(data[\"genre_adjusted\"]))"
   ]
  },
  {
   "cell_type": "markdown",
   "metadata": {},
   "source": [
    "The below for loop and function grabs the posters of our dataset and then converts the jpgs into arrays of pixels. However within this small dataset, we have 13 genres but Romance is only one datapoint thus train and test will have different shapes. For this small amount of our end goal, we will remove Romance and only have 12 genres. This is simply our initial deep learning functions."
   ]
  },
  {
   "cell_type": "code",
   "execution_count": null,
   "metadata": {
    "collapsed": true
   },
   "outputs": [],
   "source": [
    "#Function grabbing posters\n",
    "import time\n",
    "#base url\n",
    "base_url = \"http://image.tmdb.org/t/p/w185\"\n",
    "search = tmdb.Search()\n",
    "images = 0\n",
    "genres = []\n",
    "count = 1\n",
    "k = 25\n",
    "switch = False\n",
    "#Create for loop that cycles through dataframe.movie_title\n",
    "for i in range(len(data[\"movie_title\"])):\n",
    "    ####\n",
    "    #Search for movie.\n",
    "    movie_title = data[\"movie_title\"][i][:-2]\n",
    "    response = search.movie(query=movie_title)\n",
    "    #Create movie poster url.\n",
    "    print(movie_title)\n",
    "    if (response['total_results'] != 0):\n",
    "        if (response['results'][0]['poster_path'] is not None):\n",
    "            if (data[\"genre_adjusted\"][i] != 'Romance'):\n",
    "                    #print len(response['results'][0]['poster_path'])\n",
    "                poster_url = base_url + response['results'][0]['poster_path']\n",
    "                #Retrieve jpg version from url.\n",
    "                urllib.urlretrieve(poster_url, \"photos/local-file.jpg\")\n",
    "                img = Image.open('photos/local-file.jpg')\n",
    "                #RGBA check.\n",
    "                img = img.convert('RGB')\n",
    "                #Resize.\n",
    "                img = img.resize((64, 64), Image.ANTIALIAS)\n",
    "                img = np.array(img)\n",
    "                img = np.expand_dims(img, axis = 0)\n",
    "                #Add image to numpy array stack\n",
    "                if(i == 0):\n",
    "                    images = img\n",
    "                else:\n",
    "                    #print images.shape\n",
    "                    #print img.shape\n",
    "                    images = np.concatenate((images, img))\n",
    "\n",
    "                ## add to genres\n",
    "                genres = np.append(genres, data[\"genre_adjusted\"][i])\n",
    "            \n",
    "\n",
    "    if(count == k):\n",
    "        k += 25\n",
    "        time.sleep(3)\n",
    "        if switch:\n",
    "            print(count)\n",
    "            switch = False\n",
    "        else:\n",
    "            switch = True\n",
    "    count += 1"
   ]
  },
  {
   "cell_type": "code",
   "execution_count": null,
   "metadata": {
    "collapsed": true
   },
   "outputs": [],
   "source": [
    "# Check what comes out \n",
    "#print img\n",
    "#Resize.\n",
    "img = Image.open('photos/local-file.jpg')\n",
    "img = img.convert('RGB')\n",
    "img = img.resize((100, 100), Image.ANTIALIAS)\n",
    "img = np.array(img)\n",
    "img = np.expand_dims(img, axis = 0)\n",
    "img.shape"
   ]
  },
  {
   "cell_type": "code",
   "execution_count": null,
   "metadata": {
    "collapsed": true
   },
   "outputs": [],
   "source": [
    "img.shape[3] == 3"
   ]
  },
  {
   "cell_type": "code",
   "execution_count": null,
   "metadata": {
    "collapsed": true
   },
   "outputs": [],
   "source": [
    "genres"
   ]
  }
 ],
 "metadata": {
  "kernelspec": {
   "display_name": "Python 2",
   "language": "python",
   "name": "python2"
  },
  "language_info": {
   "codemirror_mode": {
    "name": "ipython",
    "version": 2
   },
   "file_extension": ".py",
   "mimetype": "text/x-python",
   "name": "python",
   "nbconvert_exporter": "python",
   "pygments_lexer": "ipython2",
   "version": "2.7.11"
  }
 },
 "nbformat": 4,
 "nbformat_minor": 0
}
