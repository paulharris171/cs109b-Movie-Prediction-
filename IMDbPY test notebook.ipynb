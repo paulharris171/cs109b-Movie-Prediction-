{
 "cells": [
  {
   "cell_type": "code",
   "execution_count": 1,
   "metadata": {
    "collapsed": true
   },
   "outputs": [],
   "source": [
    "from imdb import IMDb\n",
    "import tmdbsimple as tmdb"
   ]
  },
  {
   "cell_type": "code",
   "execution_count": null,
   "metadata": {
    "collapsed": true
   },
   "outputs": [],
   "source": [
    "#https://api.themoviedb.org/3/movie/550?api_key=455e4535405115285f107dc76734be7e\n",
    "#API key 455e4535405115285f107dc76734be7e"
   ]
  },
  {
   "cell_type": "code",
   "execution_count": 7,
   "metadata": {
    "collapsed": false
   },
   "outputs": [
    {
     "name": "stdout",
     "output_type": "stream",
     "text": [
      "(u'The Bourne Identity', 2501, [28, 18, 9648, 53], 5.503573, u'/bXQIL36VQdzJ69lcjQR1WQzJqQR.jpg')\n",
      "(u'The Bourne Supremacy', 2502, [28, 18, 53], 5.156204, u'/6a74OaZArLNNDHK9SdiLBUu2JYj.jpg')\n",
      "(u'The Bourne Legacy', 49040, [28, 53], 4.288106, u'/AnKnLsybNhnibvA3mba1ct9Nnb6.jpg')\n",
      "(u'The Bourne Ultimatum', 2503, [28, 18, 9648, 53], 4.054827, u'/fHho6JYYY0nRcETWSoeI19iZsNF.jpg')\n",
      "(u'The Bourne Identity', 8677, [28, 18, 9648, 53], 1.191824, u'/1VDOecnTdsAFx15lzhTL0J9TCgb.jpg')\n",
      "(u'Bette Bourne: It Goes with the Shoes', 179304, [99], 1.013266, u'/abhNpCXsmH931mxyLI7NZ7ChA39.jpg')\n",
      "(u'Jason Bourne', 324668, [28, 53], 6.925854, u'/aU1PY270BTBUXwAZhgRR2TMUX4u.jpg')\n",
      "(u'Untitled Jeremy Renner/Bourne Sequel', 393640, [28, 53], 1.356049, None)\n"
     ]
    }
   ],
   "source": [
    "tmdb.API_KEY = '455e4535405115285f107dc76734be7e'\n",
    "search = tmdb.Search()\n",
    "response = search.movie(query='The Bourne')\n",
    "for s in search.results:\n",
    "     print(s['title'], s['id'], s['genre_ids'], s['popularity'], s['poster_path'])"
   ]
  },
  {
   "cell_type": "code",
   "execution_count": 10,
   "metadata": {
    "collapsed": false
   },
   "outputs": [
    {
     "name": "stdout",
     "output_type": "stream",
     "text": [
      "[<Person id:0905154[http] name:_Wachowski, Lana_>, <Person id:0905152[http] name:_Wachowski, Lilly_>]\n"
     ]
    }
   ],
   "source": [
    "ia = IMDb()\n",
    "the_matrix = ia.get_movie('0133093')\n",
    "print the_matrix['director']\n"
   ]
  },
  {
   "cell_type": "code",
   "execution_count": null,
   "metadata": {
    "collapsed": true
   },
   "outputs": [],
   "source": [
    "# Might need to have the matching for the TMDb movie list here so that we can pull genres and then make a visualization \n",
    "# May also need to have something that shows frequency of actors. Emphasis on may \n",
    "# Need to standardize the genres \n",
    "# Need to have something that talks about how frequently actors are listed \n"
   ]
  }
 ],
 "metadata": {
  "kernelspec": {
   "display_name": "Python 2",
   "language": "python",
   "name": "python2"
  },
  "language_info": {
   "codemirror_mode": {
    "name": "ipython",
    "version": 2
   },
   "file_extension": ".py",
   "mimetype": "text/x-python",
   "name": "python",
   "nbconvert_exporter": "python",
   "pygments_lexer": "ipython2",
   "version": "2.7.11"
  }
 },
 "nbformat": 4,
 "nbformat_minor": 0
}
