{
 "cells": [
  {
   "cell_type": "code",
   "execution_count": 63,
   "metadata": {
    "collapsed": true
   },
   "outputs": [],
   "source": [
    "from imdb import IMDb\n",
    "import tmdbsimple as tmdb\n",
    "import requests\n",
    "import time \n",
    "import json\n",
    "import pandas as pd"
   ]
  },
  {
   "cell_type": "code",
   "execution_count": null,
   "metadata": {
    "collapsed": true
   },
   "outputs": [],
   "source": [
    "#https://api.themoviedb.org/3/movie/550?api_key=455e4535405115285f107dc76734be7e\n",
    "#API key 455e4535405115285f107dc76734be7e"
   ]
  },
  {
   "cell_type": "code",
   "execution_count": null,
   "metadata": {
    "collapsed": true
   },
   "outputs": [],
   "source": [
    "# Prolly Useful for later for getting genre aggregates \n",
    "#while True:\n",
    "#    print \"This prints once a minute.\"\n",
    "#    time.sleep(60)  # Delay for 1 minute (60 seconds)"
   ]
  },
  {
   "cell_type": "code",
   "execution_count": 57,
   "metadata": {
    "collapsed": false
   },
   "outputs": [
    {
     "name": "stdout",
     "output_type": "stream",
     "text": [
      "(u'The Matrix', 603, [28, 878], 10.745149, u'/lZpWprJqbIFpEV5uoHfoK0KCnTW.jpg')\n",
      "(u'The Matrix Reloaded', 604, [12, 28, 53, 878], 4.730741, u'/ezIurBz2fdUc68d98Fp9dRf5ihv.jpg')\n",
      "(u'The Matrix Revolutions', 605, [12, 28, 53, 878], 4.648374, u'/sKogjhfs5q3azmpW7DFKKAeLEG8.jpg')\n",
      "(u'The Matrix Revisited', 14543, [99], 1.686345, u'/kR4xt6eVdTS1agmUiL4RHXEYkDs.jpg')\n",
      "(u'Sex and the Matrix', 344225, [], 1.00021, None)\n",
      "(u'The Matrix Recalibrated', 221495, [99, 878], 1.061314, u'/sVP2PpetwT8Qg82M48tYA0ILije.jpg')\n",
      "(u'The Living Matrix', 119742, [99], 1.00376, u'/tf9MDM8oBygRSG3TALLQX6Q6tyL.jpg')\n",
      "(u'The Roots of the Matrix', 274866, [99], 1.009884, None)\n",
      "(u'The Zionist Matrix of Power', 408912, [99], 1.000869, u'/gOtayk8vKyKRnSCRn2e7sWk4ZrY.jpg')\n",
      "(u'The American Matrix - Age Of Deception', 26214, [99], 1.006915, u'/bQ4cjN4HJ96ddYVljgNQ64klN8k.jpg')\n",
      "(u'The Happiness Matrix: Creativity and Personal Mastery', 323256, [], 1.001171, u'/nrL7EO7Izrgr4f8ReHuc7V0omFl.jpg')\n",
      "(u'David Icke - Secrets of the Matrix', 371610, [99], 1.000348, u'/lysv7r5Iwn7Di5Z2Z5SORAfUoiB.jpg')\n",
      "(u'Return to Source: The Philosophy of The Matrix', 174615, [99], 1.000333, u'/4bld8IsrzXKNRRU9uCgZfWcgqAe.jpg')\n",
      "(u'Adventures in Odyssey: Escape from the Forbidden Matrix', 268477, [16, 10751], 1.00182, u'/i2ISZBxzRNnGoJoNTK2aZdleQ9S.jpg')\n",
      "(u'The Animatrix', 55931, [16, 878], 1.945266, u'/1ISkdhJ48PDvETdxjllQ1AswTGv.jpg')\n",
      "(u'The Transformers: The Movie', 1857, [16], 1.455619, u'/a6v1mtEnhwBLI9q9ACbAGmHy6bb.jpg')\n"
     ]
    }
   ],
   "source": [
    "tmdb.API_KEY = '455e4535405115285f107dc76734be7e'\n",
    "\n",
    "search = tmdb.Search()\n",
    "response = search.movie(query='The Matrix')\n",
    "\n",
    "for s in search.results:\n",
    "     print(s['title'], s['id'], s['genre_ids'], s['popularity'], s['poster_path'])"
   ]
  },
  {
   "cell_type": "code",
   "execution_count": 28,
   "metadata": {
    "collapsed": false
   },
   "outputs": [
    {
     "name": "stdout",
     "output_type": "stream",
     "text": [
      "{\"genres\":[{\"id\":28,\"name\":\"Action\"},{\"id\":12,\"name\":\"Adventure\"},{\"id\":16,\"name\":\"Animation\"},{\"id\":35,\"name\":\"Comedy\"},{\"id\":80,\"name\":\"Crime\"},{\"id\":99,\"name\":\"Documentary\"},{\"id\":18,\"name\":\"Drama\"},{\"id\":10751,\"name\":\"Family\"},{\"id\":14,\"name\":\"Fantasy\"},{\"id\":36,\"name\":\"History\"},{\"id\":27,\"name\":\"Horror\"},{\"id\":10402,\"name\":\"Music\"},{\"id\":9648,\"name\":\"Mystery\"},{\"id\":10749,\"name\":\"Romance\"},{\"id\":878,\"name\":\"Science Fiction\"},{\"id\":10770,\"name\":\"TV Movie\"},{\"id\":53,\"name\":\"Thriller\"},{\"id\":10752,\"name\":\"War\"},{\"id\":37,\"name\":\"Western\"}]}\n"
     ]
    }
   ],
   "source": [
    "# Need a mapping for tmdb genre list\n",
    "url = \"https://api.themoviedb.org/3/genre/movie/list?api_key=455e4535405115285f107dc76734be7e&language=en-US\"\n",
    "\n",
    "payload = \"{}\"\n",
    "genre_list = requests.request(\"GET\", url, data=payload)\n",
    "\n",
    "print(response.text)"
   ]
  },
  {
   "cell_type": "code",
   "execution_count": 49,
   "metadata": {
    "collapsed": false
   },
   "outputs": [
    {
     "data": {
      "text/plain": [
       "{u'id': 28, u'name': u'Action'}"
      ]
     },
     "execution_count": 49,
     "metadata": {},
     "output_type": "execute_result"
    }
   ],
   "source": [
    "#make our lives easier by converting to a json\n",
    "genres = genre_list.json()\n",
    "genres['genres'][0]"
   ]
  },
  {
   "cell_type": "code",
   "execution_count": 82,
   "metadata": {
    "collapsed": false
   },
   "outputs": [
    {
     "data": {
      "text/plain": [
       "28"
      ]
     },
     "execution_count": 82,
     "metadata": {},
     "output_type": "execute_result"
    }
   ],
   "source": [
    "genres['genres'][0]['id']"
   ]
  },
  {
   "cell_type": "code",
   "execution_count": 81,
   "metadata": {
    "collapsed": false
   },
   "outputs": [
    {
     "data": {
      "text/plain": [
       "28"
      ]
     },
     "execution_count": 81,
     "metadata": {},
     "output_type": "execute_result"
    }
   ],
   "source": [
    "# What the fuck is this doing?\n",
    "#list(genres.items())[0][1][0]['id']"
   ]
  },
  {
   "cell_type": "code",
   "execution_count": 62,
   "metadata": {
    "collapsed": false
   },
   "outputs": [
    {
     "data": {
      "text/plain": [
       "[28, 878]"
      ]
     },
     "execution_count": 62,
     "metadata": {},
     "output_type": "execute_result"
    }
   ],
   "source": [
    "#Now find the TMDb genres for The Matrix \n",
    "tmdb_matrix = response['results'][0]\n",
    "tmdb_matrix['genre_ids']\n",
    "\n"
   ]
  },
  {
   "cell_type": "markdown",
   "metadata": {},
   "source": [
    "### Get the poster path for favorite movie from TMDb"
   ]
  },
  {
   "cell_type": "code",
   "execution_count": 58,
   "metadata": {
    "collapsed": false
   },
   "outputs": [
    {
     "data": {
      "text/plain": [
       "u'http://image.tmdb.org/t/p/w185/lZpWprJqbIFpEV5uoHfoK0KCnTW.jpg'"
      ]
     },
     "execution_count": 58,
     "metadata": {},
     "output_type": "execute_result"
    }
   ],
   "source": [
    "#Initialize base structure for the posters \n",
    "\n",
    "base_url = \"http://image.tmdb.org/t/p/w185\"\n",
    "matrix_poster = base_url + response['results'][0]['poster_path']\n",
    "#Then write code to append the poster path to the end of base_url\n",
    "matrix_poster\n",
    "\n",
    "# Here's the final product link  http://image.tmdb.org/t/p/w185/lZpWprJqbIFpEV5uoHfoK0KCnTW.jpg"
   ]
  },
  {
   "cell_type": "code",
   "execution_count": 51,
   "metadata": {
    "collapsed": false
   },
   "outputs": [
    {
     "name": "stdout",
     "output_type": "stream",
     "text": [
      "[<Person id:0905154[http] name:_Wachowski, Lana_>, <Person id:0905152[http] name:_Wachowski, Lilly_>]\n"
     ]
    }
   ],
   "source": [
    "ia = IMDb()\n",
    "the_matrix = ia.get_movie('0133093')\n",
    "print the_matrix['director']"
   ]
  },
  {
   "cell_type": "code",
   "execution_count": 56,
   "metadata": {
    "collapsed": false
   },
   "outputs": [
    {
     "data": {
      "text/plain": [
       "u\"Movie\\n=====\\nTitle: Matrix, The (1999)\\nGenres: Action, Sci-Fi.\\nDirector: Lana Wachowski, Lilly Wachowski.\\nWriter: Lilly Wachowski, Lana Wachowski.\\nCast: Keanu Reeves (Neo), Laurence Fishburne (Morpheus), Carrie-Anne Moss (Trinity), Hugo Weaving (Agent Smith), Gloria Foster (Oracle).\\nRuntime: 136.\\nCountry: USA.\\nLanguage: English.\\nRating: 8.7 (1291745 votes).\\nPlot: Thomas A. Anderson is a man living two lives. By day he is an average computer programmer and by night a hacker known as Neo. Neo has always questioned his reality, but the truth is far beyond his imagination. Neo finds himself targeted by the police when he is contacted by Morpheus, a legendary computer hacker branded a terrorist by the government. Morpheus awakens Neo to the real world, a ravaged wasteland where most of humanity have been captured by a race of machines that live off of the humans' body heat and electrochemical energy and who imprison their minds within an artificial reality known as the Matrix. As a rebel against the machines, Neo must return to the Matrix and confront the agents: super-powerful computer programs devoted to snuffing out Neo and the entire human rebellion.\""
      ]
     },
     "execution_count": 56,
     "metadata": {},
     "output_type": "execute_result"
    }
   ],
   "source": [
    "the_matrix.summary()"
   ]
  },
  {
   "cell_type": "code",
   "execution_count": 60,
   "metadata": {
    "collapsed": false
   },
   "outputs": [
    {
     "data": {
      "text/plain": [
       "[u'Action', u'Sci-Fi']"
      ]
     },
     "execution_count": 60,
     "metadata": {},
     "output_type": "execute_result"
    }
   ],
   "source": [
    "the_matrix['genres']"
   ]
  },
  {
   "cell_type": "code",
   "execution_count": null,
   "metadata": {
    "collapsed": true
   },
   "outputs": [],
   "source": [
    "# Might need to have the matching for the TMDb movie list here so that we can pull genres and then make a visualization \n",
    "# May also need to have something that shows frequency of actors. Emphasis on may \n",
    "# Need to standardize the genres \n",
    "# Need to have something that talks about how frequently actors are listed \n"
   ]
  }
 ],
 "metadata": {
  "kernelspec": {
   "display_name": "Python 2",
   "language": "python",
   "name": "python2"
  },
  "language_info": {
   "codemirror_mode": {
    "name": "ipython",
    "version": 2
   },
   "file_extension": ".py",
   "mimetype": "text/x-python",
   "name": "python",
   "nbconvert_exporter": "python",
   "pygments_lexer": "ipython2",
   "version": "2.7.11"
  }
 },
 "nbformat": 4,
 "nbformat_minor": 0
}
